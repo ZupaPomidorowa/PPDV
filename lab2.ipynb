{
  "nbformat": 4,
  "nbformat_minor": 0,
  "metadata": {
    "colab": {
      "provenance": []
    },
    "kernelspec": {
      "name": "python3",
      "display_name": "Python 3"
    },
    "language_info": {
      "name": "python"
    }
  },
  "cells": [
    {
      "cell_type": "markdown",
      "source": [
        "Problem 0\n",
        "\n",
        "Count number of persons who don't have planned office hours for three organizational units separately: IETiSIP, ISEP and IE. Present the results in form of a nicely formatted table. For presenting the table you have to use native Python formatting techniques (eg. f-Strings)"
      ],
      "metadata": {
        "id": "zF0dukZlufxi"
      }
    },
    {
      "cell_type": "code",
      "execution_count": null,
      "metadata": {
        "id": "hyWXnEsLstCA"
      },
      "outputs": [],
      "source": [
        "import requests"
      ]
    },
    {
      "cell_type": "code",
      "source": [
        "res = requests.get('https://isod.ee.pw.edu.pl/isod-portal/konsultacje?semester=2021Z&jednostka=IETiSIP&result=csv')"
      ],
      "metadata": {
        "id": "T3mBn-EVveEm"
      },
      "execution_count": null,
      "outputs": []
    },
    {
      "cell_type": "code",
      "source": [
        "dir(res)"
      ],
      "metadata": {
        "colab": {
          "base_uri": "https://localhost:8080/"
        },
        "id": "kQS6hFKdvj3c",
        "outputId": "8f12ab31-a28b-4214-9f44-90afa206ecc3"
      },
      "execution_count": null,
      "outputs": [
        {
          "output_type": "execute_result",
          "data": {
            "text/plain": [
              "['__attrs__',\n",
              " '__bool__',\n",
              " '__class__',\n",
              " '__delattr__',\n",
              " '__dict__',\n",
              " '__dir__',\n",
              " '__doc__',\n",
              " '__enter__',\n",
              " '__eq__',\n",
              " '__exit__',\n",
              " '__format__',\n",
              " '__ge__',\n",
              " '__getattribute__',\n",
              " '__getstate__',\n",
              " '__gt__',\n",
              " '__hash__',\n",
              " '__init__',\n",
              " '__init_subclass__',\n",
              " '__iter__',\n",
              " '__le__',\n",
              " '__lt__',\n",
              " '__module__',\n",
              " '__ne__',\n",
              " '__new__',\n",
              " '__nonzero__',\n",
              " '__reduce__',\n",
              " '__reduce_ex__',\n",
              " '__repr__',\n",
              " '__setattr__',\n",
              " '__setstate__',\n",
              " '__sizeof__',\n",
              " '__str__',\n",
              " '__subclasshook__',\n",
              " '__weakref__',\n",
              " '_content',\n",
              " '_content_consumed',\n",
              " '_next',\n",
              " 'apparent_encoding',\n",
              " 'close',\n",
              " 'connection',\n",
              " 'content',\n",
              " 'cookies',\n",
              " 'elapsed',\n",
              " 'encoding',\n",
              " 'headers',\n",
              " 'history',\n",
              " 'is_permanent_redirect',\n",
              " 'is_redirect',\n",
              " 'iter_content',\n",
              " 'iter_lines',\n",
              " 'json',\n",
              " 'links',\n",
              " 'next',\n",
              " 'ok',\n",
              " 'raise_for_status',\n",
              " 'raw',\n",
              " 'reason',\n",
              " 'request',\n",
              " 'status_code',\n",
              " 'text',\n",
              " 'url']"
            ]
          },
          "metadata": {},
          "execution_count": 3
        }
      ]
    },
    {
      "cell_type": "code",
      "source": [
        "units = ['IETiSIP', 'ISEP', 'IE']\n",
        "url = 'https://isod.ee.pw.edu.pl/isod-portal/konsultacje?semester=2021Z&jednostka={unit}&result=csv'\n",
        "\n",
        "print('| Org. unit |\tNumber of employes | Number of employees without office hours | Share [%] |')\n",
        "print('|-----------|----------------------|------------------------------------------|-----------|')\n",
        "for unit in units:\n",
        "  res = requests.get(url.format(unit=unit))\n",
        "  c = 0\n",
        "  i = 0\n",
        "  for line in res.text.split(\"\\n\"):\n",
        "    i += 1\n",
        "    if i == 1:\n",
        "      continue\n",
        "    if \"Brak zdefiniowanych\" in line:\n",
        "      c += 1\n",
        "  print(f'| {unit:<9} | {i:<20} | {c:<40} | {c/i*100:3.0f}%')"
      ],
      "metadata": {
        "colab": {
          "base_uri": "https://localhost:8080/"
        },
        "id": "ISfzpKGzvu55",
        "outputId": "c71fc53f-0050-4dcd-edd8-8e1c941bfd3a"
      },
      "execution_count": null,
      "outputs": [
        {
          "output_type": "stream",
          "name": "stdout",
          "text": [
            "| Org. unit |\tNumber of employes | Number of employees without office hours | Share [%] |\n",
            "|-----------|----------------------|------------------------------------------|-----------|\n",
            "| IETiSIP   | 154                  | 95                                       |  62%\n",
            "| ISEP      | 219                  | 153                                      |  70%\n",
            "| IE        | 150                  | 77                                       |  51%\n"
          ]
        }
      ]
    },
    {
      "cell_type": "markdown",
      "source": [
        "Problem 1\n",
        "\n",
        "Fill in the Line class methods to accept coordinate as a pair of tuples and return the slope and distance of the line."
      ],
      "metadata": {
        "id": "5YUBle46z6od"
      }
    },
    {
      "cell_type": "code",
      "source": [
        "import math\n",
        "\n",
        "class Line(object):\n",
        "  def __init__(self,coor1,coor2):\n",
        "      \"\"\"Initialize instance attributes with tuples (x1,y1)  and (x2,y2)\"\"\"\n",
        "      self.p1 = coor1\n",
        "      self.p2 = coor2\n",
        "\n",
        "  def distance(self):\n",
        "      \"\"\"Calculate the length of the segment (line)\"\"\"\n",
        "      x1 = self.p1[0]\n",
        "      y1 = self.p1[1]\n",
        "      x2 = self.p2[0]\n",
        "      y2 = self.p2[1]\n",
        "\n",
        "      return math.sqrt((x2-x1)**2 + (y2-y1)**2)\n",
        "\n",
        "  def slope(self):\n",
        "      \"\"\" Return the slope of a line going through the ends ( the 'a' in y=ax+b)\"\"\"\n",
        "      x1, y1 = self.p1\n",
        "      x2, y2 = self.p2\n",
        "\n",
        "      return (y2-y1) / (x2-x1)"
      ],
      "metadata": {
        "id": "TRPrQ5IA0Be5"
      },
      "execution_count": null,
      "outputs": []
    },
    {
      "cell_type": "code",
      "source": [
        "coordinate1 = (3,2)\n",
        "coordinate2 = (8,10)\n",
        "\n",
        "li = Line(coordinate1,coordinate2)"
      ],
      "metadata": {
        "id": "_4tyR5Xr0rJy"
      },
      "execution_count": null,
      "outputs": []
    },
    {
      "cell_type": "code",
      "source": [
        "li.distance()"
      ],
      "metadata": {
        "colab": {
          "base_uri": "https://localhost:8080/"
        },
        "id": "97HHcQel2Q3Y",
        "outputId": "ea0f8046-5ecf-490c-ee98-72482cf9f05a"
      },
      "execution_count": null,
      "outputs": [
        {
          "output_type": "execute_result",
          "data": {
            "text/plain": [
              "9.433981132056603"
            ]
          },
          "metadata": {},
          "execution_count": 19
        }
      ]
    },
    {
      "cell_type": "code",
      "source": [
        "li.slope()"
      ],
      "metadata": {
        "colab": {
          "base_uri": "https://localhost:8080/"
        },
        "id": "5k5_34vR2RCN",
        "outputId": "91c741ad-ad2e-44a6-9344-281e0af67936"
      },
      "execution_count": null,
      "outputs": [
        {
          "output_type": "execute_result",
          "data": {
            "text/plain": [
              "1.6"
            ]
          },
          "metadata": {},
          "execution_count": 20
        }
      ]
    },
    {
      "cell_type": "markdown",
      "source": [
        "Problem 2\n",
        "\n",
        "Fill in the class"
      ],
      "metadata": {
        "id": "KJUFq-kD2Wfs"
      }
    },
    {
      "cell_type": "code",
      "source": [
        "class Cylinder(object):\n",
        "\n",
        "  def __init__(self,height=1,radius=1):\n",
        "      self.h = height\n",
        "      self.r = radius\n",
        "\n",
        "  def volume(self):\n",
        "      return math.pi * self.r**2 * self.h\n",
        "\n",
        "  def surface_area(self):\n",
        "      return 2*math.pi * self.r * self.h + 2*math.pi * self.r**2\n"
      ],
      "metadata": {
        "id": "V-b5HPMb2dJa"
      },
      "execution_count": null,
      "outputs": []
    },
    {
      "cell_type": "code",
      "source": [
        "c = Cylinder(2,3)\n",
        "\n",
        "c.volume()"
      ],
      "metadata": {
        "colab": {
          "base_uri": "https://localhost:8080/"
        },
        "id": "kW4_6lKz3HCs",
        "outputId": "d73d6f63-fad7-4800-9a39-4a0734069ab8"
      },
      "execution_count": null,
      "outputs": [
        {
          "output_type": "execute_result",
          "data": {
            "text/plain": [
              "56.548667764616276"
            ]
          },
          "metadata": {},
          "execution_count": 32
        }
      ]
    },
    {
      "cell_type": "code",
      "source": [
        "c.surface_area()"
      ],
      "metadata": {
        "colab": {
          "base_uri": "https://localhost:8080/"
        },
        "id": "mkHr62lL3HJt",
        "outputId": "b94f260a-66c2-437b-b4ed-4dccc1892b3f"
      },
      "execution_count": null,
      "outputs": [
        {
          "output_type": "execute_result",
          "data": {
            "text/plain": [
              "94.24777960769379"
            ]
          },
          "metadata": {},
          "execution_count": 33
        }
      ]
    },
    {
      "cell_type": "markdown",
      "source": [
        "Problem 3\n",
        "\n",
        "Write a class that takes a filename as an argument, open it and reads its content into a 2D matrix of values (an array of arrays: [[1,2],[3,4]]). The class should define a special function info() which returns a pretty formatted string (tabular form) which can be directly printed out with statistical information about column values in the file. Assume that the first row in the file specifies the column names"
      ],
      "metadata": {
        "id": "ruoE6t954Moe"
      }
    },
    {
      "cell_type": "code",
      "source": [
        "with open('data.txt', 'w') as f:\n",
        "  f.write(\"\"\"Name;Age;Weight;Height\n",
        "John;6;25;123\n",
        "Mary;4;18;98\n",
        "Jack;8;32;138\"\"\")"
      ],
      "metadata": {
        "id": "AN3MRfwK6_uE"
      },
      "execution_count": null,
      "outputs": []
    },
    {
      "cell_type": "code",
      "source": [
        "class DataFile(object):\n",
        "\n",
        "  def __init__(self, filename='undef'):\n",
        "    self.fn = filename\n",
        "\n",
        "    self._readdata()\n",
        "\n",
        "  def _readdata(self):\n",
        "\n",
        "    def _converter(c):\n",
        "      try:\n",
        "        return float(c)\n",
        "      except:\n",
        "        return c\n",
        "\n",
        "    self.rows = []\n",
        "\n",
        "    with open(self.fn) as f:\n",
        "      firstline = next(f)\n",
        "      self.colnames = firstline.strip().split(';')\n",
        "\n",
        "      for rn, line in enumerate(f):\n",
        "        rowdata = line.strip().split(';')\n",
        "        if len(rowdata) != len(self.colnames):\n",
        "          raise RuntimeError(f'Invalid number of columns in row {rn}: excepted {len(self.colnames)} but found {len(rowdata)}')\n",
        "        self.rows.append(list(map(_converter, rowdata)))\n",
        "\n",
        "  def _find_colnum(self, colname):\n",
        "    for idx, c in enumerate(self.colnames):\n",
        "      if c == colname:\n",
        "        return idx\n",
        "    return None\n",
        "\n",
        "  def info(self):\n",
        "    print(f\"{' ':10}{'Min:':10}{'Max:':10}{'Avg:':10}\")\n",
        "    for cn in self.colnames:\n",
        "      vmin = self.min(colname=cn)\n",
        "      vmax = self.max(colname=cn)\n",
        "      vavg = self.avg(colname=cn)\n",
        "      vmin = f\"{'-':10}\" if vmin is None else f\"{vmin:10.2f}\"\n",
        "      vmax = f\"{'-':10}\" if vmax is None else f\"{vmax:10.2f}\"\n",
        "      vavg = f\"{'-':10}\" if vavg is None else f\"{vavg:10.2f}\"\n",
        "      print(f\"{cn+':':10}{vmin}{vmax}{vavg}\")\n",
        "\n",
        "\n",
        "  def avg(self, colnum=None, colname=None):\n",
        "    \"\"\" The column name or colnum can be provided alternatively\"\"\"\n",
        "    if colname is not None:\n",
        "      colnum = self._find_colnum(colname)\n",
        "\n",
        "    try:\n",
        "      sum = 0\n",
        "      if colnum is not None:\n",
        "        for row in self.rows:\n",
        "          sum += row[colnum]\n",
        "\n",
        "      return sum / len(self.rows)\n",
        "    except:\n",
        "      return None\n",
        "\n",
        "  def min(self, colnum=None, colname=None):\n",
        "      if colname is not None:\n",
        "        colnum = self._find_colnum(colname)\n",
        "\n",
        "      try:\n",
        "        vals = []\n",
        "        if colnum is not None:\n",
        "          for row in self.rows:\n",
        "            vals.append(float(row[colnum]))\n",
        "\n",
        "        return min(vals)\n",
        "      except:\n",
        "        return None\n",
        "\n",
        "  def max(self, colnum=None, colname=None):\n",
        "      if colname is not None:\n",
        "        colnum = self._find_colnum(colname)\n",
        "\n",
        "      try:\n",
        "        vals = []\n",
        "        if colnum is not None:\n",
        "          for row in self.rows:\n",
        "            vals.append(float(row[colnum]))\n",
        "\n",
        "        return max(vals)\n",
        "      except:\n",
        "        return None"
      ],
      "metadata": {
        "id": "-15Ol_eE4N71"
      },
      "execution_count": null,
      "outputs": []
    },
    {
      "cell_type": "code",
      "source": [
        "df = DataFile('data.txt')\n",
        "df.rows\n",
        "df.info()"
      ],
      "metadata": {
        "colab": {
          "base_uri": "https://localhost:8080/"
        },
        "id": "M5K8cb3y7TLh",
        "outputId": "1d1154d2-1127-409b-9fc1-b1e4f21ea43e"
      },
      "execution_count": null,
      "outputs": [
        {
          "output_type": "stream",
          "name": "stdout",
          "text": [
            "          Min:      Max:      Avg:      \n",
            "Name:     -         -         -         \n",
            "Age:            4.00      8.00      6.00\n",
            "Weight:        18.00     32.00     25.00\n",
            "Height:        98.00    138.00    119.67\n"
          ]
        }
      ]
    },
    {
      "cell_type": "code",
      "source": [
        "df.avg(colname='Weight')"
      ],
      "metadata": {
        "colab": {
          "base_uri": "https://localhost:8080/"
        },
        "id": "qjkYBrh-5SV4",
        "outputId": "ec48a8e9-b268-46e4-a624-2dc57f33e693"
      },
      "execution_count": null,
      "outputs": [
        {
          "output_type": "execute_result",
          "data": {
            "text/plain": [
              "25.0"
            ]
          },
          "metadata": {},
          "execution_count": 20
        }
      ]
    },
    {
      "cell_type": "code",
      "source": [
        "df.max(colname='Weight')"
      ],
      "metadata": {
        "colab": {
          "base_uri": "https://localhost:8080/"
        },
        "id": "kveONAKuDqnw",
        "outputId": "0e6259b1-f3d7-49de-bac7-cf46ed3eac17"
      },
      "execution_count": null,
      "outputs": [
        {
          "output_type": "execute_result",
          "data": {
            "text/plain": [
              "32.0"
            ]
          },
          "metadata": {},
          "execution_count": 23
        }
      ]
    },
    {
      "cell_type": "code",
      "source": [
        "df.min(colname='Weight')"
      ],
      "metadata": {
        "colab": {
          "base_uri": "https://localhost:8080/"
        },
        "id": "lpZR90biD0_Y",
        "outputId": "c3454f03-a058-4031-b9ed-b9422fbea8b3"
      },
      "execution_count": null,
      "outputs": [
        {
          "output_type": "execute_result",
          "data": {
            "text/plain": [
              "18.0"
            ]
          },
          "metadata": {},
          "execution_count": 24
        }
      ]
    },
    {
      "cell_type": "markdown",
      "source": [
        "Problem 4\n",
        "\n",
        "Write a context manager and example of its usage (just print some result to terminal) which will fetch the data about teachers from ISOD API, and as a variable it should return an ordered by lastname list of teachers."
      ],
      "metadata": {
        "id": "srz-VDyYPTFr"
      }
    },
    {
      "cell_type": "code",
      "source": [
        "import requests\n",
        "import json\n",
        "\n",
        "s = requests.get(\"https://isod.ee.pw.edu.pl/isod-portal/wapi?q=list_teachers&sem2019Z&urlinfo=null&format=JSON&orgunit=ZETiIS\")\n",
        "teachers = s.json()"
      ],
      "metadata": {
        "colab": {
          "base_uri": "https://localhost:8080/"
        },
        "id": "dkF0uOCCPqMG",
        "outputId": "401a6b88-f92d-48c2-f844-569ee1164831"
      },
      "execution_count": null,
      "outputs": [
        {
          "output_type": "execute_result",
          "data": {
            "text/plain": [
              "[{'id': 3396,\n",
              "  'firstname': 'Radosław',\n",
              "  'lastname': 'Basiński',\n",
              "  'email': 'radoslaw.basinski@pw.edu.pl',\n",
              "  'title': 'dr inż.',\n",
              "  'room': 'GE 224',\n",
              "  'www': '',\n",
              "  'phone': '22 234 75 43',\n",
              "  'position': 'adiunkt',\n",
              "  'bio_pl': 'Zainteresowania naukowe: modelowanie i symulacja nieliniowych układów dynamicznych, teoria chaosu, zastosowanie metod numerycznych oraz zagadnienia związane z uczeniem maszynowym.',\n",
              "  'bio_en': 'Scientific interest: modelling and simulation of nonlinear dynamical systems, theory of chaos, using of numerical methods, machine learning.',\n",
              "  'photourl': 'https://isod.ee.pw.edu.pl/isod-portal/photo/key/kNBlUspuCSUcaescwu7Dg.dat',\n",
              "  'orgunit': 'IETiSIP',\n",
              "  'orgunitfull': 'Instytut Elektrotechniki Teoretycznej i Systemów Informacyjno-Pomiarowych',\n",
              "  'facultyorgunit': 'EE',\n",
              "  'facultyorgunitfull': 'Wydział Elektryczny',\n",
              "  'universityorgunit': 'PW',\n",
              "  'universityorgunitfull': 'Politechnika Warszawska'},\n",
              " {'id': 77,\n",
              "  'firstname': 'Stanisław',\n",
              "  'lastname': 'Bolkowski',\n",
              "  'email': 'Stanislaw.Bolkowski@ee.pw.edu.pl',\n",
              "  'title': 'prof. dr hab.',\n",
              "  'room': 'GE 220',\n",
              "  'www': '',\n",
              "  'phone': '602 211 077',\n",
              "  'position': 'Emeryt PW (Współpracujący)',\n",
              "  'bio_pl': 'Fundamenty teorii obwodów elektrycznych oraz pola elektromagnetycznego. Dydaktyka elektrotechniki.',\n",
              "  'bio_en': 'The foundations of the theory of electrical circuits and electromagnetic fields. Teaching of electrical engineering.',\n",
              "  'photourl': 'https://isod.ee.pw.edu.pl/isod-portal/photo/key/3wcW33CbLjDtxwX8zyvSLA.dat',\n",
              "  'orgunit': 'IETiSIP',\n",
              "  'orgunitfull': 'Instytut Elektrotechniki Teoretycznej i Systemów Informacyjno-Pomiarowych',\n",
              "  'facultyorgunit': 'EE',\n",
              "  'facultyorgunitfull': 'Wydział Elektryczny',\n",
              "  'universityorgunit': 'PW',\n",
              "  'universityorgunitfull': 'Politechnika Warszawska'},\n",
              " {'id': 3394,\n",
              "  'firstname': 'Wiesław',\n",
              "  'lastname': 'Brociek',\n",
              "  'email': 'wieslaw.brociek@pw.edu.pl',\n",
              "  'title': 'doc. dr inż.',\n",
              "  'room': 'GE 222',\n",
              "  'www': '',\n",
              "  'phone': '22 234 56 43',\n",
              "  'position': 'Emeryt PW (Współpracujący)',\n",
              "  'bio_pl': '',\n",
              "  'bio_en': '',\n",
              "  'photourl': 'https://isod.ee.pw.edu.pl/isod-portal/photo/key/bfHFedVQyu55yQVLz4nMw.dat',\n",
              "  'orgunit': 'IETiSIP',\n",
              "  'orgunitfull': 'Instytut Elektrotechniki Teoretycznej i Systemów Informacyjno-Pomiarowych',\n",
              "  'facultyorgunit': 'EE',\n",
              "  'facultyorgunitfull': 'Wydział Elektryczny',\n",
              "  'universityorgunit': 'PW',\n",
              "  'universityorgunitfull': 'Politechnika Warszawska'},\n",
              " {'id': 2794,\n",
              "  'firstname': 'Bartosz',\n",
              "  'lastname': 'Chaber',\n",
              "  'email': 'bartosz.chaber@pw.edu.pl',\n",
              "  'title': 'dr inż.',\n",
              "  'room': 'GE 223',\n",
              "  'www': 'https://bchaber.github.io',\n",
              "  'phone': '22 234 53 87',\n",
              "  'position': 'adiunkt',\n",
              "  'bio_pl': 'Komputerowe symulacje plazmy oraz pola elektromagnetycznego. Rozwijanie oprogramowania numerycznego oraz pomiary w zakresie kompatybilności elektromagnetycznej.',\n",
              "  'bio_en': 'Multilinguistic programming (Python, C, C++, Java, Ruby, Haskell), data visualization (OpenGL) and antennas analysis.',\n",
              "  'orgunit': 'IETiSIP',\n",
              "  'orgunitfull': 'Instytut Elektrotechniki Teoretycznej i Systemów Informacyjno-Pomiarowych',\n",
              "  'facultyorgunit': 'EE',\n",
              "  'facultyorgunitfull': 'Wydział Elektryczny',\n",
              "  'universityorgunit': 'PW',\n",
              "  'universityorgunitfull': 'Politechnika Warszawska'},\n",
              " {'id': 1668,\n",
              "  'firstname': 'Stefan',\n",
              "  'lastname': 'Filipowicz',\n",
              "  'email': 'stefan.filipowicz@pw.edu.pl',\n",
              "  'title': 'prof. dr hab. inż.',\n",
              "  'room': 'GE 223',\n",
              "  'www': 'http://www.iem.pw.edu.pl/~2xf/',\n",
              "  'phone': '22 234 53 87',\n",
              "  'position': 'Emeryt PW (Współpracujący)',\n",
              "  'bio_pl': 'Metody i narzędzia komputerowej tomografii procesowej (EIT, ECT), długotrwałe badanie aktywności mózgu (elektroencefalografia, aEEG CFM), zasilacze AC-DC, analiza i synteza obwodów nieliniowych.',\n",
              "  'bio_en': 'Methods and tools for Electrical Process Tomography (EIT, ECT, electroencephalography). Supply Power AC-DC. Analysis and synthesis nonlinear circuits.',\n",
              "  'photourl': 'https://isod.ee.pw.edu.pl/isod-portal/photo/key/0rAC57fhK3tXp7EQyBToZw.dat',\n",
              "  'orgunit': 'IETiSIP',\n",
              "  'orgunitfull': 'Instytut Elektrotechniki Teoretycznej i Systemów Informacyjno-Pomiarowych',\n",
              "  'facultyorgunit': 'EE',\n",
              "  'facultyorgunitfull': 'Wydział Elektryczny',\n",
              "  'universityorgunit': 'PW',\n",
              "  'universityorgunitfull': 'Politechnika Warszawska'},\n",
              " {'id': 2474,\n",
              "  'firstname': 'Zygmunt',\n",
              "  'lastname': 'Filipowicz',\n",
              "  'email': 'zygmunt.filipowicz@ee.pw.edu.pl',\n",
              "  'title': 'doc. dr inż.',\n",
              "  'room': 'GE 222',\n",
              "  'www': '',\n",
              "  'phone': '22 234 56 43',\n",
              "  'position': 'Emeryt PW (Współpracujący)',\n",
              "  'bio_pl': '',\n",
              "  'bio_en': '',\n",
              "  'photourl': 'https://isod.ee.pw.edu.pl/isod-portal/photo/key/TEY9i6i2TB4vP7Ee5NPKRg.dat',\n",
              "  'orgunit': 'IETiSIP',\n",
              "  'orgunitfull': 'Instytut Elektrotechniki Teoretycznej i Systemów Informacyjno-Pomiarowych',\n",
              "  'facultyorgunit': 'EE',\n",
              "  'facultyorgunitfull': 'Wydział Elektryczny',\n",
              "  'universityorgunit': 'PW',\n",
              "  'universityorgunitfull': 'Politechnika Warszawska'},\n",
              " {'id': 27104,\n",
              "  'firstname': 'Konrad',\n",
              "  'lastname': 'Godlewski',\n",
              "  'email': '01027521@pw.edu.pl',\n",
              "  'title': 'mgr inż.',\n",
              "  'room': 'GE 229',\n",
              "  'www': '',\n",
              "  'phone': '22 234 5760',\n",
              "  'position': 'doktorant',\n",
              "  'bio_pl': 'AI w grach, reinforcement learning',\n",
              "  'bio_en': '',\n",
              "  'photourl': 'https://isod.ee.pw.edu.pl/isod-portal/photo/key/twH3TWiiOGuJ6oDuXgEISQ.dat',\n",
              "  'orgunit': 'IETiSIP',\n",
              "  'orgunitfull': 'Instytut Elektrotechniki Teoretycznej i Systemów Informacyjno-Pomiarowych',\n",
              "  'facultyorgunit': 'EE',\n",
              "  'facultyorgunitfull': 'Wydział Elektryczny',\n",
              "  'universityorgunit': 'PW',\n",
              "  'universityorgunitfull': 'Politechnika Warszawska'},\n",
              " {'id': 4063,\n",
              "  'firstname': 'Tomasz',\n",
              "  'lastname': 'Grzywacz',\n",
              "  'email': 'tomasz.grzywacz@pw.edu.pl',\n",
              "  'title': 'dr inż.',\n",
              "  'room': 'GE 222',\n",
              "  'www': '',\n",
              "  'phone': '22 234 56 43',\n",
              "  'position': 'adiunkt',\n",
              "  'bio_pl': 'Modelowanie i symulacja pól elektromagnetycznych. Grafika komputerowa.',\n",
              "  'bio_en': 'Modeling and simulation of electromagnetic fields. Computer graphics.',\n",
              "  'photourl': 'https://isod.ee.pw.edu.pl/isod-portal/photo/key/vBdi0jvsnKPJgiewfwWNw.dat',\n",
              "  'orgunit': 'IETiSIP',\n",
              "  'orgunitfull': 'Instytut Elektrotechniki Teoretycznej i Systemów Informacyjno-Pomiarowych',\n",
              "  'facultyorgunit': 'EE',\n",
              "  'facultyorgunitfull': 'Wydział Elektryczny',\n",
              "  'universityorgunit': 'PW',\n",
              "  'universityorgunitfull': 'Politechnika Warszawska'},\n",
              " {'id': 2852,\n",
              "  'firstname': 'Norbert',\n",
              "  'lastname': 'Jarzębowski',\n",
              "  'email': 'jarzebon@volt.iem.pw.edu.pl',\n",
              "  'title': 'mgr inż.',\n",
              "  'room': 'GE 224',\n",
              "  'www': '',\n",
              "  'phone': '22 234 75 43',\n",
              "  'position': 'doktorant',\n",
              "  'bio_pl': '',\n",
              "  'bio_en': '',\n",
              "  'photourl': 'https://isod.ee.pw.edu.pl/isod-portal/photo/key/x1XfpAQsii2XIyJemQuwtQ.dat',\n",
              "  'orgunit': 'IETiSIP',\n",
              "  'orgunitfull': 'Instytut Elektrotechniki Teoretycznej i Systemów Informacyjno-Pomiarowych',\n",
              "  'facultyorgunit': 'EE',\n",
              "  'facultyorgunitfull': 'Wydział Elektryczny',\n",
              "  'universityorgunit': 'PW',\n",
              "  'universityorgunitfull': 'Politechnika Warszawska'},\n",
              " {'id': 1493,\n",
              "  'firstname': 'Bartłomiej',\n",
              "  'lastname': 'Kalisiewicz',\n",
              "  'email': '00233338@pw.edu.pl',\n",
              "  'title': 'mgr inż.',\n",
              "  'room': 'GE 501',\n",
              "  'www': '',\n",
              "  'phone': '-',\n",
              "  'position': 'doktorant',\n",
              "  'bio_pl': '',\n",
              "  'bio_en': '',\n",
              "  'orgunit': 'IETiSIP',\n",
              "  'orgunitfull': 'Instytut Elektrotechniki Teoretycznej i Systemów Informacyjno-Pomiarowych',\n",
              "  'facultyorgunit': 'EE',\n",
              "  'facultyorgunitfull': 'Wydział Elektryczny',\n",
              "  'universityorgunit': 'PW',\n",
              "  'universityorgunitfull': 'Politechnika Warszawska'},\n",
              " {'id': 61,\n",
              "  'firstname': 'Jacek',\n",
              "  'lastname': 'Korytkowski',\n",
              "  'email': 'jacek.korytkowski@pw.edu.pl',\n",
              "  'title': 'dr inż.',\n",
              "  'room': 'GE 226',\n",
              "  'www': '',\n",
              "  'phone': '22 234 56 44',\n",
              "  'position': 'adiunkt',\n",
              "  'bio_pl': 'Sieciowe Systemy Operacyjne. Zarządzanie zasobami lokalnej sieci komputerowej. Rozwój sprzętu komputerowego.',\n",
              "  'bio_en': 'Network Operating Systems.Local Area NetWork Management Suite. Development of the Computer Hardware.',\n",
              "  'photourl': 'https://isod.ee.pw.edu.pl/isod-portal/photo/key/PFO7raJwMui4XcDNpEg2tw.dat',\n",
              "  'orgunit': 'IETiSIP',\n",
              "  'orgunitfull': 'Instytut Elektrotechniki Teoretycznej i Systemów Informacyjno-Pomiarowych',\n",
              "  'facultyorgunit': 'EE',\n",
              "  'facultyorgunitfull': 'Wydział Elektryczny',\n",
              "  'universityorgunit': 'PW',\n",
              "  'universityorgunitfull': 'Politechnika Warszawska'},\n",
              " {'id': 28378,\n",
              "  'firstname': 'Łukasz',\n",
              "  'lastname': 'Kędzierski',\n",
              "  'email': '00228759@pw.edu.pl',\n",
              "  'title': 'mgr inż.',\n",
              "  'room': 'GE 501',\n",
              "  'www': '',\n",
              "  'phone': '234 57 40',\n",
              "  'position': 'doktorant',\n",
              "  'bio_pl': '',\n",
              "  'bio_en': '',\n",
              "  'orgunit': 'IETiSIP',\n",
              "  'orgunitfull': 'Instytut Elektrotechniki Teoretycznej i Systemów Informacyjno-Pomiarowych',\n",
              "  'facultyorgunit': 'EE',\n",
              "  'facultyorgunitfull': 'Wydział Elektryczny',\n",
              "  'universityorgunit': 'PW',\n",
              "  'universityorgunitfull': 'Politechnika Warszawska'},\n",
              " {'id': 3940,\n",
              "  'firstname': 'Tomasz',\n",
              "  'lastname': 'Leś',\n",
              "  'email': 'tomasz.les@pw.edu.pl',\n",
              "  'title': 'dr hab. inż.',\n",
              "  'room': 'GE 229',\n",
              "  'www': 'www.tomaszles.pl/dydaktyka',\n",
              "  'phone': '22 234 57 60',\n",
              "  'position': 'adiunkt',\n",
              "  'bio_pl': 'Opracowywanie komputerowych metod przetwarzania i  \\n eksploracji danych z obrazów medycznych  do wspomagania diagnostyki',\n",
              "  'bio_en': 'Automatic evaluation system of FISH images in breast cancer.',\n",
              "  'photourl': 'https://isod.ee.pw.edu.pl/isod-portal/photo/key/PavqvTpr16GGIco03mA.dat',\n",
              "  'orgunit': 'IETiSIP',\n",
              "  'orgunitfull': 'Instytut Elektrotechniki Teoretycznej i Systemów Informacyjno-Pomiarowych',\n",
              "  'facultyorgunit': 'EE',\n",
              "  'facultyorgunitfull': 'Wydział Elektryczny',\n",
              "  'universityorgunit': 'PW',\n",
              "  'universityorgunitfull': 'Politechnika Warszawska'},\n",
              " {'id': 79,\n",
              "  'firstname': 'Tomasz',\n",
              "  'lastname': 'Markiewicz',\n",
              "  'email': 'tomasz.markiewicz@pw.edu.pl',\n",
              "  'title': 'prof. dr hab. inż.',\n",
              "  'room': 'GE 229',\n",
              "  'www': '',\n",
              "  'phone': '22 234 72 35',\n",
              "  'position': 'profesor',\n",
              "  'bio_pl': 'Przetwarzanie obrazów i sygnałów biomedycznych,w szczególności mikroskopowych i tomograficznych. Metody morfologii matematycznej, sztucznych sieci neuronowych, oraz data mining.',\n",
              "  'bio_en': 'Processing of biomedical images and signals, in particular microscopic and tomographic. Mathematical morphology methods, artificial neural networks and data mining.',\n",
              "  'photourl': 'https://isod.ee.pw.edu.pl/isod-portal/photo/key/fCZSxAECq8b40DdFNv40g.dat',\n",
              "  'orgunit': 'IETiSIP',\n",
              "  'orgunitfull': 'Instytut Elektrotechniki Teoretycznej i Systemów Informacyjno-Pomiarowych',\n",
              "  'facultyorgunit': 'EE',\n",
              "  'facultyorgunitfull': 'Wydział Elektryczny',\n",
              "  'universityorgunit': 'PW',\n",
              "  'universityorgunitfull': 'Politechnika Warszawska'},\n",
              " {'id': 2841,\n",
              "  'firstname': 'Wiktor',\n",
              "  'lastname': 'Nowakowski',\n",
              "  'email': 'nowakoww@iem.pw.edu.pl',\n",
              "  'title': 'mgr inż.',\n",
              "  'room': 'GE 224',\n",
              "  'www': 'smog.iem.pw.edu.pl',\n",
              "  'phone': '22 234 75 43',\n",
              "  'position': 'doktorant',\n",
              "  'bio_pl': 'Inżynieria oprogramowania. Metody i narzędzia do wytwarzania oprogramowania sterowanego modelami.',\n",
              "  'bio_en': 'Software engineering. Methods and tools for model-driven software development.',\n",
              "  'photourl': 'https://isod.ee.pw.edu.pl/isod-portal/photo/key/CpAsndGh64d5P81CSTl4A.dat',\n",
              "  'orgunit': 'IETiSIP',\n",
              "  'orgunitfull': 'Instytut Elektrotechniki Teoretycznej i Systemów Informacyjno-Pomiarowych',\n",
              "  'facultyorgunit': 'EE',\n",
              "  'facultyorgunitfull': 'Wydział Elektryczny',\n",
              "  'universityorgunit': 'PW',\n",
              "  'universityorgunitfull': 'Politechnika Warszawska'},\n",
              " {'id': 78,\n",
              "  'firstname': 'Stanisław',\n",
              "  'lastname': 'Osowski',\n",
              "  'email': 'stanislaw.osowski@pw.edu.pl',\n",
              "  'title': 'prof. dr hab. inż.',\n",
              "  'room': 'GE 229',\n",
              "  'www': 'http://www.iem.pw.edu.pl/~sto',\n",
              "  'phone': '22 234 51 73',\n",
              "  'position': 'profesor',\n",
              "  'bio_pl': 'Metody eksploracji danych w zastosowaniu do rozwiązania zadań klasyfikacji i predykcji. Sieci neuronowe, neuronowo-rozmyte i SVM. Metody sztucznej inteligencji do przetwarzania danych biomedycznych.',\n",
              "  'bio_en': 'Data mining, neural networks, neuro-fuzzy networks and Support Vector Machines (practical aspects of applications). Artificial intelligence methods for biomedical data processing.',\n",
              "  'photourl': 'https://isod.ee.pw.edu.pl/isod-portal/photo/key/aukcsEBorXg6FyjbpmrTsg.dat',\n",
              "  'orgunit': 'IETiSIP',\n",
              "  'orgunitfull': 'Instytut Elektrotechniki Teoretycznej i Systemów Informacyjno-Pomiarowych',\n",
              "  'facultyorgunit': 'EE',\n",
              "  'facultyorgunitfull': 'Wydział Elektryczny',\n",
              "  'universityorgunit': 'PW',\n",
              "  'universityorgunitfull': 'Politechnika Warszawska'},\n",
              " {'id': 36153,\n",
              "  'firstname': 'Mateusz',\n",
              "  'lastname': 'Pakosz',\n",
              "  'email': '01127562@pw.edu.pl',\n",
              "  'room': '',\n",
              "  'www': '',\n",
              "  'phone': '',\n",
              "  'position': 'doktorant',\n",
              "  'bio_pl': '',\n",
              "  'bio_en': '',\n",
              "  'orgunit': 'IETiSIP',\n",
              "  'orgunitfull': 'Instytut Elektrotechniki Teoretycznej i Systemów Informacyjno-Pomiarowych',\n",
              "  'facultyorgunit': 'EE',\n",
              "  'facultyorgunitfull': 'Wydział Elektryczny',\n",
              "  'universityorgunit': 'PW',\n",
              "  'universityorgunitfull': 'Politechnika Warszawska'},\n",
              " {'id': 29585,\n",
              "  'firstname': 'Rafał',\n",
              "  'lastname': 'Parol',\n",
              "  'email': '00240771@pw.edu.pl',\n",
              "  'title': 'mgr inż.',\n",
              "  'room': 'GE 501',\n",
              "  'www': 'www.iem.pw.edu.pl/~parolr',\n",
              "  'phone': '+48 664-319-569',\n",
              "  'position': 'doktorant',\n",
              "  'bio_pl': '',\n",
              "  'bio_en': '',\n",
              "  'photourl': 'https://isod.ee.pw.edu.pl/isod-portal/photo/key/XOiXXZKtWFH9jY7pxxmHdg.dat',\n",
              "  'orgunit': 'IETiSIP',\n",
              "  'orgunitfull': 'Instytut Elektrotechniki Teoretycznej i Systemów Informacyjno-Pomiarowych',\n",
              "  'facultyorgunit': 'EE',\n",
              "  'facultyorgunitfull': 'Wydział Elektryczny',\n",
              "  'universityorgunit': 'PW',\n",
              "  'universityorgunitfull': 'Politechnika Warszawska'},\n",
              " {'id': 2016,\n",
              "  'firstname': 'Maciej',\n",
              "  'lastname': 'Polakowski',\n",
              "  'email': '01004382@pw.edu.pl',\n",
              "  'title': 'mgr inż.',\n",
              "  'room': 'GE 224',\n",
              "  'www': '',\n",
              "  'phone': '-',\n",
              "  'position': 'doktorant',\n",
              "  'bio_pl': '',\n",
              "  'bio_en': '',\n",
              "  'orgunit': 'IETiSIP',\n",
              "  'orgunitfull': 'Instytut Elektrotechniki Teoretycznej i Systemów Informacyjno-Pomiarowych',\n",
              "  'facultyorgunit': 'EE',\n",
              "  'facultyorgunitfull': 'Wydział Elektryczny',\n",
              "  'universityorgunit': 'PW',\n",
              "  'universityorgunitfull': 'Politechnika Warszawska'},\n",
              " {'id': 26438,\n",
              "  'firstname': 'Bartosz',\n",
              "  'lastname': 'Poławski',\n",
              "  'email': '00154703@pw.edu.pl',\n",
              "  'title': 'mgr inż.',\n",
              "  'room': 'GE229',\n",
              "  'www': '',\n",
              "  'phone': '22 234 5760',\n",
              "  'position': 'doktorant',\n",
              "  'bio_pl': '',\n",
              "  'bio_en': '',\n",
              "  'orgunit': 'IETiSIP',\n",
              "  'orgunitfull': 'Instytut Elektrotechniki Teoretycznej i Systemów Informacyjno-Pomiarowych',\n",
              "  'facultyorgunit': 'EE',\n",
              "  'facultyorgunitfull': 'Wydział Elektryczny',\n",
              "  'universityorgunit': 'PW',\n",
              "  'universityorgunitfull': 'Politechnika Warszawska'},\n",
              " {'id': 29416,\n",
              "  'firstname': 'Radosław',\n",
              "  'lastname': 'Roszczyk',\n",
              "  'email': 'radoslaw.roszczyk@pw.edu.pl',\n",
              "  'title': 'dr inż.',\n",
              "  'room': 'GE224',\n",
              "  'www': 'https://blog.roszczyk.net',\n",
              "  'phone': '22 234 75 43',\n",
              "  'position': 'adiunkt',\n",
              "  'bio_pl': 'Analiza i przetwarzanie obrazów biomedycznych. Obliczenia równoległe i wielkoskalowe. Metodyki wytwarzania oprogramowania. Języki i metody programowania.',\n",
              "  'bio_en': 'Analysis and processing of biomedical images. Parallel and large-scale calculations. Software development methodologies. Programming languages and software development methodologies.',\n",
              "  'photourl': 'https://isod.ee.pw.edu.pl/isod-portal/photo/key/30JUnzI7OYkxtDNJOlAG0Q.dat',\n",
              "  'orgunit': 'IETiSIP',\n",
              "  'orgunitfull': 'Instytut Elektrotechniki Teoretycznej i Systemów Informacyjno-Pomiarowych',\n",
              "  'facultyorgunit': 'EE',\n",
              "  'facultyorgunitfull': 'Wydział Elektryczny',\n",
              "  'universityorgunit': 'PW',\n",
              "  'universityorgunitfull': 'Politechnika Warszawska'},\n",
              " {'id': 3954,\n",
              "  'firstname': 'Kamil',\n",
              "  'lastname': 'Rybiński',\n",
              "  'email': 'kamil.rybinski@pw.edu.pl',\n",
              "  'title': 'dr inż.',\n",
              "  'room': 'GE 221',\n",
              "  'www': '',\n",
              "  'phone': '-',\n",
              "  'position': 'adiunkt',\n",
              "  'bio_pl': 'Inżynieria Oprogramowania, Wytwarzanie Oprogramowania Sterowane Modelami, Reprezentacja Wiedzy',\n",
              "  'bio_en': 'Software Engineering, Model-Driven Architecture, Knowledge Representation',\n",
              "  'photourl': 'https://isod.ee.pw.edu.pl/isod-portal/photo/key/pIhFEGGJyzM97fySyAxfg.dat',\n",
              "  'orgunit': 'IETiSIP',\n",
              "  'orgunitfull': 'Instytut Elektrotechniki Teoretycznej i Systemów Informacyjno-Pomiarowych',\n",
              "  'facultyorgunit': 'EE',\n",
              "  'facultyorgunitfull': 'Wydział Elektryczny',\n",
              "  'universityorgunit': 'PW',\n",
              "  'universityorgunitfull': 'Politechnika Warszawska'},\n",
              " {'id': 2475,\n",
              "  'firstname': 'Bartosz',\n",
              "  'lastname': 'Sawicki',\n",
              "  'email': 'bartosz.sawicki@pw.edu.pl',\n",
              "  'title': 'dr hab. inż.',\n",
              "  'room': 'GE 229',\n",
              "  'www': 'http://www.iem.pw.edu.pl/~sawickib/',\n",
              "  'phone': '22 234 57 60',\n",
              "  'position': 'profesor uczelni',\n",
              "  'bio_pl': 'Metody i narzędzia symulacji komputerowej problemów bioelektromagnetyzmu. Otwarte i nowoczesne technologie internetowe.',\n",
              "  'bio_en': 'Methods and tools for computational bioelectromagnetics. Open-source and modern Internet technologies.',\n",
              "  'photourl': 'https://isod.ee.pw.edu.pl/isod-portal/photo/key/jC52SF0mNmMLPn3NMDYa8w.dat',\n",
              "  'orgunit': 'IETiSIP',\n",
              "  'orgunitfull': 'Instytut Elektrotechniki Teoretycznej i Systemów Informacyjno-Pomiarowych',\n",
              "  'facultyorgunit': 'EE',\n",
              "  'facultyorgunitfull': 'Wydział Elektryczny',\n",
              "  'universityorgunit': 'PW',\n",
              "  'universityorgunitfull': 'Politechnika Warszawska'},\n",
              " {'id': 2449,\n",
              "  'firstname': 'Krzysztof',\n",
              "  'lastname': 'Siwek',\n",
              "  'email': 'krzysztof.siwek@pw.edu.pl',\n",
              "  'title': 'dr hab. inż.',\n",
              "  'room': 'GE 220',\n",
              "  'www': 'http://www.iem.pw.edu.pl/~ksiwek',\n",
              "  'phone': '22 234 60 15',\n",
              "  'position': 'profesor uczelni',\n",
              "  'bio_pl': 'Zainteresowania naukowe:\\n - Przetwarzanie sygnałów, sieci neuronowe, algorytmy ewolucyjne i genetyczne, uczenie maszynowe, deep learning, NLP. \\n - Metody predykcji w problemach inżynierskich, biomedycznych i ochrony środowiska. \\n - Rozpoznawanie twarzy, gestów, mimiki, emocji i zachowania\\n - Rozpoznawanie obiektów 2D i 3D przy użyciu uczenia maszynowego. \\n - Zastosowania praktyczne \"sztucznego nosa\".',\n",
              "  'bio_en': 'Neural networks, signal processing and genetic algorithms. Practical application of the developed methods for prediction and classification problems.',\n",
              "  'photourl': 'https://isod.ee.pw.edu.pl/isod-portal/photo/key/J1jQSouNHVFWoxRyYwHg.dat',\n",
              "  'orgunit': 'IETiSIP',\n",
              "  'orgunitfull': 'Instytut Elektrotechniki Teoretycznej i Systemów Informacyjno-Pomiarowych',\n",
              "  'facultyorgunit': 'EE',\n",
              "  'facultyorgunitfull': 'Wydział Elektryczny',\n",
              "  'universityorgunit': 'PW',\n",
              "  'universityorgunitfull': 'Politechnika Warszawska'},\n",
              " {'id': 2481,\n",
              "  'firstname': 'Maciej',\n",
              "  'lastname': 'Stodolski',\n",
              "  'email': 'maciej.stodolski@pw.edu.pl',\n",
              "  'title': 'dr inż.',\n",
              "  'room': 'GE 227',\n",
              "  'www': '',\n",
              "  'phone': '22 234 71 38',\n",
              "  'position': 'adiunkt',\n",
              "  'bio_pl': 'Bazy danych, programowanie obiektowe. Algorytmy optymalizacji. Aplikacje biznesowe.',\n",
              "  'bio_en': 'Databases, objective programming. Optimization algorithms. Business applications.',\n",
              "  'photourl': 'https://isod.ee.pw.edu.pl/isod-portal/photo/key/WmhnTIF7t3f6jU5qyXwQ.dat',\n",
              "  'orgunit': 'IETiSIP',\n",
              "  'orgunitfull': 'Instytut Elektrotechniki Teoretycznej i Systemów Informacyjno-Pomiarowych',\n",
              "  'facultyorgunit': 'EE',\n",
              "  'facultyorgunitfull': 'Wydział Elektryczny',\n",
              "  'universityorgunit': 'PW',\n",
              "  'universityorgunitfull': 'Politechnika Warszawska'},\n",
              " {'id': 25949,\n",
              "  'firstname': 'Tomasz',\n",
              "  'lastname': 'Straszak',\n",
              "  'email': '5273@pw.edu.pl',\n",
              "  'title': 'mgr inż.',\n",
              "  'room': '-',\n",
              "  'www': '',\n",
              "  'phone': '-',\n",
              "  'position': 'doktorant',\n",
              "  'bio_pl': '',\n",
              "  'bio_en': '',\n",
              "  'photourl': 'https://isod.ee.pw.edu.pl/isod-portal/photo/key/u4fO3yg4HN9BG6VO3S2Q.dat',\n",
              "  'orgunit': 'IETiSIP',\n",
              "  'orgunitfull': 'Instytut Elektrotechniki Teoretycznej i Systemów Informacyjno-Pomiarowych',\n",
              "  'facultyorgunit': 'EE',\n",
              "  'facultyorgunitfull': 'Wydział Elektryczny',\n",
              "  'universityorgunit': 'PW',\n",
              "  'universityorgunitfull': 'Politechnika Warszawska'},\n",
              " {'id': 27035,\n",
              "  'firstname': 'Paweł',\n",
              "  'lastname': 'Szczepanowski',\n",
              "  'email': '01027373@pw.edu.pl',\n",
              "  'title': 'mgr inż.',\n",
              "  'room': 'GE 501',\n",
              "  'www': '',\n",
              "  'phone': '(22) 628-45-68',\n",
              "  'position': 'doktorant',\n",
              "  'bio_pl': '',\n",
              "  'bio_en': '',\n",
              "  'photourl': 'https://isod.ee.pw.edu.pl/isod-portal/photo/key/MSsQjYjNT2mmPm6e9f5w',\n",
              "  'orgunit': 'IETiSIP',\n",
              "  'orgunitfull': 'Instytut Elektrotechniki Teoretycznej i Systemów Informacyjno-Pomiarowych',\n",
              "  'facultyorgunit': 'EE',\n",
              "  'facultyorgunitfull': 'Wydział Elektryczny',\n",
              "  'universityorgunit': 'PW',\n",
              "  'universityorgunitfull': 'Politechnika Warszawska'},\n",
              " {'id': 53,\n",
              "  'firstname': 'Robert',\n",
              "  'lastname': 'Szmurło',\n",
              "  'email': 'robert.szmurlo@pw.edu.pl',\n",
              "  'title': 'dr inż.',\n",
              "  'room': 'GE 223',\n",
              "  'www': 'http://www.iem.pw.edu.pl/~szmurlor',\n",
              "  'phone': '+48 22 234 53 87',\n",
              "  'position': 'adiunkt',\n",
              "  'bio_pl': 'Robert Szmurło jest związany z Politechniką Warszawską od 2000 roku, kiedy rozpoczął studia doktoranckie. W 2003 roku został zatrudniony na stanowisku asystenta, a od 2007 roku jest adiunktem. Uczestniczył w ponad 10 projektach badawczych (finansowanych przez Ministerstwo Nauki, firmy komercyjne i granty Unii Europejskiej), które dotyczyły metod symulacji komputerowych. Tematyka projektów dotyczyła zastosowania modelowania pól elektromagnetycznych w medycynie, modelowania elektrycznych układów zasilania impulsowego, sztucznej inteligencji w medycynie do planowania radioterapii, metod modelowania systemów informatycznych i nie tylko. Jest autorem 55 artykułów naukowych z indeksem Hirsha 4 (Scopus) i 6 (Google Scholar). Skumulowany współczynnik IF jego prac badawczych wynosi 12,4. Jego najnowsza działalność badawcza związana jest z informatyką stosowaną oraz zastosowaniem metod obliczeniowych i sztucznej inteligencji w medycynie i elektrotechnice.\\n\\nJestem pracownikiem naukowo-dydaktycznym Politechniki Warszawskiej. Moje zainteresowania naukowe są związane z bioelektromagnetyzmem i metodami symulacji inżynierskich. Główna część moich prac jest związana z zagadnieniami pola elektromagnetycznego, modelowaniem zagadnień prostych do lokalizacji źródeł aktywności mózgu, grafika komputerowa, obrazowanie medyczne oraz metody programowania (języki C++, Python, Java, JavaScript). Jestem członkiem Grupy Otwartego Oprogramowania Pola Elektromagnetycznego (GOOPE). W swoich badaniach zajmuję się modelowaniem samoczynnej oraz stymulowanej elektrycznie aktywności mózgu w realistycznych modelach głowy uzyskanych z obrazów MRI (rezonans magnetyczny). Modelowaniem depozycji dawek podczas radioterapii komórek nowotworowych.\\n\\nDydaktycznie, prowadzę przedmioty związane z metodami numerycznymi, metodyka programowania oraz projektowaniem graficznych interfejsów użytkownika.',\n",
              "  'bio_en': 'Robert Szmurło is with Warsaw University of Technology since year 2000 when he started his Phd education. In 2003 he was employed as an assistant and since 2007 he is an assistant professor. He participated in more that 10 research projects (funded by polish Ministry of Science, commercial companies and European Union grants) which were all related to computer simulation methods. The subjects of the projects were related to modeling  applications of electromagnetic fields in medical treatment, modeling electric impulse power supply systems, artificial intelligence in medicine for Radiotherapy planning, methods of modeling information systems and more. He is an author of 55 research papers with Hirsh index 4 (Scopus) and 6 (Google Scholar). The cumulative impact factor of his research papers is 12.4. His most recent research activity is related to applied computer science and application of computational methods and artificial intelligence in medicine and electrical engineering. \\n\\nTeaching activity: computer software design and implementation. Graphical user interfaces, UX. Modern user interfaces.',\n",
              "  'photourl': 'https://isod.ee.pw.edu.pl/isod-portal/photo/key/xfopdMNVCFSM4QKqCByUjQ',\n",
              "  'orgunit': 'IETiSIP',\n",
              "  'orgunitfull': 'Instytut Elektrotechniki Teoretycznej i Systemów Informacyjno-Pomiarowych',\n",
              "  'facultyorgunit': 'EE',\n",
              "  'facultyorgunitfull': 'Wydział Elektryczny',\n",
              "  'universityorgunit': 'PW',\n",
              "  'universityorgunitfull': 'Politechnika Warszawska'},\n",
              " {'id': 2446,\n",
              "  'firstname': 'Andrzej',\n",
              "  'lastname': 'Toboła',\n",
              "  'email': 'andrzej.tobola@pw.edu.pl',\n",
              "  'title': 'mgr inż.',\n",
              "  'room': 'GE 227',\n",
              "  'www': 'http://www.iem.pw.edu.pl/~ato/',\n",
              "  'phone': '22 234 71 38',\n",
              "  'position': 'starszy wykładowca',\n",
              "  'bio_pl': 'Sieci komputerowe, systemy operacyjne, systemy rozproszone, centra danych, klastry, oprogramowanie systemowe, komputerowa analiza i synteza obwodów, obwody przełączane.',\n",
              "  'bio_en': 'Computer networks, operating systems, distributed systems, data-centers, cloud computing, clusters, system programming, computer aided design of circuits, switching circuits.',\n",
              "  'photourl': 'https://isod.ee.pw.edu.pl/isod-portal/photo/key/azTgkGNZV1R5CMhK3fgw.dat',\n",
              "  'orgunit': 'IETiSIP',\n",
              "  'orgunitfull': 'Instytut Elektrotechniki Teoretycznej i Systemów Informacyjno-Pomiarowych',\n",
              "  'facultyorgunit': 'EE',\n",
              "  'facultyorgunitfull': 'Wydział Elektryczny',\n",
              "  'universityorgunit': 'PW',\n",
              "  'universityorgunitfull': 'Politechnika Warszawska'},\n",
              " {'id': 3237,\n",
              "  'firstname': 'Andrzej',\n",
              "  'lastname': 'Tolarczyk',\n",
              "  'email': 'tolarczyk@hotmail.com',\n",
              "  'title': 'mgr inż.',\n",
              "  'room': 'GE 501',\n",
              "  'www': '',\n",
              "  'phone': '-',\n",
              "  'position': 'doktorant',\n",
              "  'bio_pl': '',\n",
              "  'bio_en': '',\n",
              "  'photourl': 'https://isod.ee.pw.edu.pl/isod-portal/photo/key/PKll2sUzRP41BjhRWQcKaw.dat',\n",
              "  'orgunit': 'IETiSIP',\n",
              "  'orgunitfull': 'Instytut Elektrotechniki Teoretycznej i Systemów Informacyjno-Pomiarowych',\n",
              "  'facultyorgunit': 'EE',\n",
              "  'facultyorgunitfull': 'Wydział Elektryczny',\n",
              "  'universityorgunit': 'PW',\n",
              "  'universityorgunitfull': 'Politechnika Warszawska'},\n",
              " {'id': 1275,\n",
              "  'firstname': 'Marek',\n",
              "  'lastname': 'Wdowiak',\n",
              "  'email': 'marek.wdowiak@pw.edu.pl',\n",
              "  'title': 'mgr inż.',\n",
              "  'room': 'GE-b 224',\n",
              "  'www': '',\n",
              "  'phone': '22 234 75 43 (tylko w godzinach konsultacji)',\n",
              "  'position': 'asystent',\n",
              "  'bio_pl': 'Obszar badań skupiony na komputerowych metodach wspomagania diagnozy lekarskiej. Badania w szczególności skupiają się na zagadnieniach takich jak: segmentacja oraz analiza ilościowa obrazów mikroskopowych, techniki morfologii matematycznej w filtracji obrazu, uczenie maszynowe.',\n",
              "  'bio_en': 'Researched field focuses on aiding medical diagnosis with computer science. Conducted research centres around issues, such as segmentation and quantitative analysis of microscopic images, mathematical morphology in image filtration, machine learning.',\n",
              "  'photourl': 'https://isod.ee.pw.edu.pl/isod-portal/photo/key/5xRQHfv0kRiCeHwulV1A.dat',\n",
              "  'orgunit': 'IETiSIP',\n",
              "  'orgunitfull': 'Instytut Elektrotechniki Teoretycznej i Systemów Informacyjno-Pomiarowych',\n",
              "  'facultyorgunit': 'EE',\n",
              "  'facultyorgunitfull': 'Wydział Elektryczny',\n",
              "  'universityorgunit': 'PW',\n",
              "  'universityorgunitfull': 'Politechnika Warszawska'},\n",
              " {'id': 27041,\n",
              "  'firstname': 'Bartosz',\n",
              "  'lastname': 'Wierciński',\n",
              "  'email': '01027368@pw.edu.pl',\n",
              "  'title': 'mgr inż.',\n",
              "  'room': 'GE 501',\n",
              "  'www': '',\n",
              "  'phone': '234 57 40',\n",
              "  'position': 'doktorant',\n",
              "  'bio_pl': '',\n",
              "  'bio_en': '',\n",
              "  'orgunit': 'IETiSIP',\n",
              "  'orgunitfull': 'Instytut Elektrotechniki Teoretycznej i Systemów Informacyjno-Pomiarowych',\n",
              "  'facultyorgunit': 'EE',\n",
              "  'facultyorgunitfull': 'Wydział Elektryczny',\n",
              "  'universityorgunit': 'PW',\n",
              "  'universityorgunitfull': 'Politechnika Warszawska'},\n",
              " {'id': 2480,\n",
              "  'firstname': 'Jarosław',\n",
              "  'lastname': 'Wilk',\n",
              "  'email': 'jaroslaw.wilk@pw.edu.pl',\n",
              "  'title': 'dr inż.',\n",
              "  'room': 'GG pok. 210',\n",
              "  'www': 'http://www.zkue.ime.pw.edu.pl/',\n",
              "  'phone': '22 234 53 86',\n",
              "  'position': 'adiunkt',\n",
              "  'bio_pl': 'Realizacja projektów informatycznych metodyką Scrum, wspieranie graficznego interfejsu dedykowanym językiem funkcyjnym.',\n",
              "  'bio_en': 'Implementation of projects with Scrum methodology, supporting the graphical interface with dedicated language function.',\n",
              "  'photourl': 'https://isod.ee.pw.edu.pl/isod-portal/photo/key/TPxEd4WW7fJEjLQoWSXgw.dat',\n",
              "  'orgunit': 'IETiSIP',\n",
              "  'orgunitfull': 'Instytut Elektrotechniki Teoretycznej i Systemów Informacyjno-Pomiarowych',\n",
              "  'facultyorgunit': 'EE',\n",
              "  'facultyorgunitfull': 'Wydział Elektryczny',\n",
              "  'universityorgunit': 'PW',\n",
              "  'universityorgunitfull': 'Politechnika Warszawska'},\n",
              " {'id': 32054,\n",
              "  'firstname': 'Katarzyna',\n",
              "  'lastname': 'Zagrodzka',\n",
              "  'email': '01136393@pw.edu.pl',\n",
              "  'title': 'mgr inż.',\n",
              "  'room': 'GE 501',\n",
              "  'www': '',\n",
              "  'phone': '234 57 40',\n",
              "  'position': 'doktorant',\n",
              "  'bio_pl': '',\n",
              "  'bio_en': '',\n",
              "  'orgunit': 'IETiSIP',\n",
              "  'orgunitfull': 'Instytut Elektrotechniki Teoretycznej i Systemów Informacyjno-Pomiarowych',\n",
              "  'facultyorgunit': 'EE',\n",
              "  'facultyorgunitfull': 'Wydział Elektryczny',\n",
              "  'universityorgunit': 'PW',\n",
              "  'universityorgunitfull': 'Politechnika Warszawska'},\n",
              " {'id': 2448,\n",
              "  'firstname': 'Michał',\n",
              "  'lastname': 'Śmiałek',\n",
              "  'email': 'michal.smialek@pw.edu.pl',\n",
              "  'title': 'dr hab. inż.',\n",
              "  'room': 'GE 221',\n",
              "  'www': 'smialek.iem.pw.edu.pl',\n",
              "  'phone': '22 234 60 78',\n",
              "  'position': 'profesor uczelni',\n",
              "  'bio_pl': 'Metody i narzędzia usprawniające procesy inżynierii oprogramowania. Wytwarzanie oprogramowania sterowane modelami z naciskiem na modelowanie wymagań.',\n",
              "  'bio_en': 'Methods and tools for the improvement of software engineering processes. Model-driven software development with the emphasis on requirements models.',\n",
              "  'photourl': 'https://isod.ee.pw.edu.pl/isod-portal/photo/key/zDniQt5SlXH9aF87yftYyQ.dat',\n",
              "  'orgunit': 'IETiSIP',\n",
              "  'orgunitfull': 'Instytut Elektrotechniki Teoretycznej i Systemów Informacyjno-Pomiarowych',\n",
              "  'facultyorgunit': 'EE',\n",
              "  'facultyorgunitfull': 'Wydział Elektryczny',\n",
              "  'universityorgunit': 'PW',\n",
              "  'universityorgunitfull': 'Politechnika Warszawska'},\n",
              " {'id': 28687,\n",
              "  'firstname': 'Żaneta',\n",
              "  'lastname': 'Świderska-Chadaj',\n",
              "  'email': 'zaneta.swiderska@pw.edu.pl',\n",
              "  'title': 'dr hab. inż.',\n",
              "  'room': 'GE 228',\n",
              "  'www': '',\n",
              "  'phone': '22 234 76 14',\n",
              "  'position': 'profesor uczelni',\n",
              "  'bio_pl': 'Opracowanie algorytmów do przetwarzania obrazów patomorfologicznych.',\n",
              "  'bio_en': 'Automatic evaluation systems of pathomorphological images.',\n",
              "  'photourl': 'https://isod.ee.pw.edu.pl/isod-portal/photo/key/CgZxV5gD1nRdtvuHJr2w',\n",
              "  'orgunit': 'IETiSIP',\n",
              "  'orgunitfull': 'Instytut Elektrotechniki Teoretycznej i Systemów Informacyjno-Pomiarowych',\n",
              "  'facultyorgunit': 'EE',\n",
              "  'facultyorgunitfull': 'Wydział Elektryczny',\n",
              "  'universityorgunit': 'PW',\n",
              "  'universityorgunitfull': 'Politechnika Warszawska'},\n",
              " {'id': 3106,\n",
              "  'firstname': 'Łukasz',\n",
              "  'lastname': 'Żmudzin',\n",
              "  'email': '01012930@pw.edu.pl',\n",
              "  'title': 'mgr inż.',\n",
              "  'room': 'GE 501',\n",
              "  'www': '',\n",
              "  'phone': '234 57 40',\n",
              "  'position': 'doktorant',\n",
              "  'bio_pl': '',\n",
              "  'bio_en': '',\n",
              "  'orgunit': 'IETiSIP',\n",
              "  'orgunitfull': 'Instytut Elektrotechniki Teoretycznej i Systemów Informacyjno-Pomiarowych',\n",
              "  'facultyorgunit': 'EE',\n",
              "  'facultyorgunitfull': 'Wydział Elektryczny',\n",
              "  'universityorgunit': 'PW',\n",
              "  'universityorgunitfull': 'Politechnika Warszawska'}]"
            ]
          },
          "metadata": {},
          "execution_count": 11
        }
      ]
    },
    {
      "cell_type": "code",
      "source": [
        "import requests\n",
        "\n",
        "class SortedTeachers():\n",
        "  def __init__(self, url = 'https://isod.ee.pw.edu.pl/isod-portal/wapi?q=list_teachers&sem2019Z&urlinfo=null&format=JSON&orgunit=ZETiIS'):\n",
        "    self.sorted_teachers = []\n",
        "    self.url = url\n",
        "\n",
        "  def get(self):\n",
        "    res = requests.get(self.url)\n",
        "    lst = res.json()['teachers']\n",
        "    self.sorted_teachers = sorted (lst, key=lambda x: x['lastname'])\n",
        "\n",
        "  def __enter__(self):\n",
        "    self.get()\n",
        "    return self.sorted_teachers\n",
        "\n",
        "  def __exit__(self, e, msg, trb):\n",
        "    pass\n"
      ],
      "metadata": {
        "id": "6Jfa_HOvEKq_"
      },
      "execution_count": null,
      "outputs": []
    },
    {
      "cell_type": "code",
      "source": [
        "with SortedTeachers() as t:\n",
        "  print(t)"
      ],
      "metadata": {
        "colab": {
          "base_uri": "https://localhost:8080/"
        },
        "id": "En94ROe5Fwzv",
        "outputId": "4d904632-3fbf-4ded-fb42-0f59f0556afb"
      },
      "execution_count": null,
      "outputs": [
        {
          "output_type": "stream",
          "name": "stdout",
          "text": [
            "[{'id': 3396, 'firstname': 'Radosław', 'lastname': 'Basiński', 'email': 'radoslaw.basinski@pw.edu.pl', 'title': 'dr inż.', 'room': 'GE 224', 'www': '', 'phone': '22 234 75 43', 'position': 'adiunkt', 'bio_pl': 'Zainteresowania naukowe: modelowanie i symulacja nieliniowych układów dynamicznych, teoria chaosu, zastosowanie metod numerycznych oraz zagadnienia związane z uczeniem maszynowym.', 'bio_en': 'Scientific interest: modelling and simulation of nonlinear dynamical systems, theory of chaos, using of numerical methods, machine learning.', 'photourl': 'https://isod.ee.pw.edu.pl/isod-portal/photo/key/kNBlUspuCSUcaescwu7Dg.dat', 'orgunit': 'IETiSIP', 'orgunitfull': 'Instytut Elektrotechniki Teoretycznej i Systemów Informacyjno-Pomiarowych', 'facultyorgunit': 'EE', 'facultyorgunitfull': 'Wydział Elektryczny', 'universityorgunit': 'PW', 'universityorgunitfull': 'Politechnika Warszawska'}, {'id': 77, 'firstname': 'Stanisław', 'lastname': 'Bolkowski', 'email': 'Stanislaw.Bolkowski@ee.pw.edu.pl', 'title': 'prof. dr hab.', 'room': 'GE 220', 'www': '', 'phone': '602 211 077', 'position': 'Emeryt PW (Współpracujący)', 'bio_pl': 'Fundamenty teorii obwodów elektrycznych oraz pola elektromagnetycznego. Dydaktyka elektrotechniki.', 'bio_en': 'The foundations of the theory of electrical circuits and electromagnetic fields. Teaching of electrical engineering.', 'photourl': 'https://isod.ee.pw.edu.pl/isod-portal/photo/key/3wcW33CbLjDtxwX8zyvSLA.dat', 'orgunit': 'IETiSIP', 'orgunitfull': 'Instytut Elektrotechniki Teoretycznej i Systemów Informacyjno-Pomiarowych', 'facultyorgunit': 'EE', 'facultyorgunitfull': 'Wydział Elektryczny', 'universityorgunit': 'PW', 'universityorgunitfull': 'Politechnika Warszawska'}, {'id': 3394, 'firstname': 'Wiesław', 'lastname': 'Brociek', 'email': 'wieslaw.brociek@pw.edu.pl', 'title': 'doc. dr inż.', 'room': 'GE 222', 'www': '', 'phone': '22 234 56 43', 'position': 'Emeryt PW (Współpracujący)', 'bio_pl': '', 'bio_en': '', 'photourl': 'https://isod.ee.pw.edu.pl/isod-portal/photo/key/bfHFedVQyu55yQVLz4nMw.dat', 'orgunit': 'IETiSIP', 'orgunitfull': 'Instytut Elektrotechniki Teoretycznej i Systemów Informacyjno-Pomiarowych', 'facultyorgunit': 'EE', 'facultyorgunitfull': 'Wydział Elektryczny', 'universityorgunit': 'PW', 'universityorgunitfull': 'Politechnika Warszawska'}, {'id': 2794, 'firstname': 'Bartosz', 'lastname': 'Chaber', 'email': 'bartosz.chaber@pw.edu.pl', 'title': 'dr inż.', 'room': 'GE 223', 'www': 'https://bchaber.github.io', 'phone': '22 234 53 87', 'position': 'adiunkt', 'bio_pl': 'Komputerowe symulacje plazmy oraz pola elektromagnetycznego. Rozwijanie oprogramowania numerycznego oraz pomiary w zakresie kompatybilności elektromagnetycznej.', 'bio_en': 'Multilinguistic programming (Python, C, C++, Java, Ruby, Haskell), data visualization (OpenGL) and antennas analysis.', 'orgunit': 'IETiSIP', 'orgunitfull': 'Instytut Elektrotechniki Teoretycznej i Systemów Informacyjno-Pomiarowych', 'facultyorgunit': 'EE', 'facultyorgunitfull': 'Wydział Elektryczny', 'universityorgunit': 'PW', 'universityorgunitfull': 'Politechnika Warszawska'}, {'id': 1668, 'firstname': 'Stefan', 'lastname': 'Filipowicz', 'email': 'stefan.filipowicz@pw.edu.pl', 'title': 'prof. dr hab. inż.', 'room': 'GE 223', 'www': 'http://www.iem.pw.edu.pl/~2xf/', 'phone': '22 234 53 87', 'position': 'Emeryt PW (Współpracujący)', 'bio_pl': 'Metody i narzędzia komputerowej tomografii procesowej (EIT, ECT), długotrwałe badanie aktywności mózgu (elektroencefalografia, aEEG CFM), zasilacze AC-DC, analiza i synteza obwodów nieliniowych.', 'bio_en': 'Methods and tools for Electrical Process Tomography (EIT, ECT, electroencephalography). Supply Power AC-DC. Analysis and synthesis nonlinear circuits.', 'photourl': 'https://isod.ee.pw.edu.pl/isod-portal/photo/key/0rAC57fhK3tXp7EQyBToZw.dat', 'orgunit': 'IETiSIP', 'orgunitfull': 'Instytut Elektrotechniki Teoretycznej i Systemów Informacyjno-Pomiarowych', 'facultyorgunit': 'EE', 'facultyorgunitfull': 'Wydział Elektryczny', 'universityorgunit': 'PW', 'universityorgunitfull': 'Politechnika Warszawska'}, {'id': 2474, 'firstname': 'Zygmunt', 'lastname': 'Filipowicz', 'email': 'zygmunt.filipowicz@ee.pw.edu.pl', 'title': 'doc. dr inż.', 'room': 'GE 222', 'www': '', 'phone': '22 234 56 43', 'position': 'Emeryt PW (Współpracujący)', 'bio_pl': '', 'bio_en': '', 'photourl': 'https://isod.ee.pw.edu.pl/isod-portal/photo/key/TEY9i6i2TB4vP7Ee5NPKRg.dat', 'orgunit': 'IETiSIP', 'orgunitfull': 'Instytut Elektrotechniki Teoretycznej i Systemów Informacyjno-Pomiarowych', 'facultyorgunit': 'EE', 'facultyorgunitfull': 'Wydział Elektryczny', 'universityorgunit': 'PW', 'universityorgunitfull': 'Politechnika Warszawska'}, {'id': 27104, 'firstname': 'Konrad', 'lastname': 'Godlewski', 'email': '01027521@pw.edu.pl', 'title': 'mgr inż.', 'room': 'GE 229', 'www': '', 'phone': '22 234 5760', 'position': 'doktorant', 'bio_pl': 'AI w grach, reinforcement learning', 'bio_en': '', 'photourl': 'https://isod.ee.pw.edu.pl/isod-portal/photo/key/twH3TWiiOGuJ6oDuXgEISQ.dat', 'orgunit': 'IETiSIP', 'orgunitfull': 'Instytut Elektrotechniki Teoretycznej i Systemów Informacyjno-Pomiarowych', 'facultyorgunit': 'EE', 'facultyorgunitfull': 'Wydział Elektryczny', 'universityorgunit': 'PW', 'universityorgunitfull': 'Politechnika Warszawska'}, {'id': 4063, 'firstname': 'Tomasz', 'lastname': 'Grzywacz', 'email': 'tomasz.grzywacz@pw.edu.pl', 'title': 'dr inż.', 'room': 'GE 222', 'www': '', 'phone': '22 234 56 43', 'position': 'adiunkt', 'bio_pl': 'Modelowanie i symulacja pól elektromagnetycznych. Grafika komputerowa.', 'bio_en': 'Modeling and simulation of electromagnetic fields. Computer graphics.', 'photourl': 'https://isod.ee.pw.edu.pl/isod-portal/photo/key/vBdi0jvsnKPJgiewfwWNw.dat', 'orgunit': 'IETiSIP', 'orgunitfull': 'Instytut Elektrotechniki Teoretycznej i Systemów Informacyjno-Pomiarowych', 'facultyorgunit': 'EE', 'facultyorgunitfull': 'Wydział Elektryczny', 'universityorgunit': 'PW', 'universityorgunitfull': 'Politechnika Warszawska'}, {'id': 2852, 'firstname': 'Norbert', 'lastname': 'Jarzębowski', 'email': 'jarzebon@volt.iem.pw.edu.pl', 'title': 'mgr inż.', 'room': 'GE 224', 'www': '', 'phone': '22 234 75 43', 'position': 'doktorant', 'bio_pl': '', 'bio_en': '', 'photourl': 'https://isod.ee.pw.edu.pl/isod-portal/photo/key/x1XfpAQsii2XIyJemQuwtQ.dat', 'orgunit': 'IETiSIP', 'orgunitfull': 'Instytut Elektrotechniki Teoretycznej i Systemów Informacyjno-Pomiarowych', 'facultyorgunit': 'EE', 'facultyorgunitfull': 'Wydział Elektryczny', 'universityorgunit': 'PW', 'universityorgunitfull': 'Politechnika Warszawska'}, {'id': 1493, 'firstname': 'Bartłomiej', 'lastname': 'Kalisiewicz', 'email': '00233338@pw.edu.pl', 'title': 'mgr inż.', 'room': 'GE 501', 'www': '', 'phone': '-', 'position': 'doktorant', 'bio_pl': '', 'bio_en': '', 'orgunit': 'IETiSIP', 'orgunitfull': 'Instytut Elektrotechniki Teoretycznej i Systemów Informacyjno-Pomiarowych', 'facultyorgunit': 'EE', 'facultyorgunitfull': 'Wydział Elektryczny', 'universityorgunit': 'PW', 'universityorgunitfull': 'Politechnika Warszawska'}, {'id': 61, 'firstname': 'Jacek', 'lastname': 'Korytkowski', 'email': 'jacek.korytkowski@pw.edu.pl', 'title': 'dr inż.', 'room': 'GE 226', 'www': '', 'phone': '22 234 56 44', 'position': 'adiunkt', 'bio_pl': 'Sieciowe Systemy Operacyjne. Zarządzanie zasobami lokalnej sieci komputerowej. Rozwój sprzętu komputerowego.', 'bio_en': 'Network Operating Systems.Local Area NetWork Management Suite. Development of the Computer Hardware.', 'photourl': 'https://isod.ee.pw.edu.pl/isod-portal/photo/key/PFO7raJwMui4XcDNpEg2tw.dat', 'orgunit': 'IETiSIP', 'orgunitfull': 'Instytut Elektrotechniki Teoretycznej i Systemów Informacyjno-Pomiarowych', 'facultyorgunit': 'EE', 'facultyorgunitfull': 'Wydział Elektryczny', 'universityorgunit': 'PW', 'universityorgunitfull': 'Politechnika Warszawska'}, {'id': 28378, 'firstname': 'Łukasz', 'lastname': 'Kędzierski', 'email': '00228759@pw.edu.pl', 'title': 'mgr inż.', 'room': 'GE 501', 'www': '', 'phone': '234 57 40', 'position': 'doktorant', 'bio_pl': '', 'bio_en': '', 'orgunit': 'IETiSIP', 'orgunitfull': 'Instytut Elektrotechniki Teoretycznej i Systemów Informacyjno-Pomiarowych', 'facultyorgunit': 'EE', 'facultyorgunitfull': 'Wydział Elektryczny', 'universityorgunit': 'PW', 'universityorgunitfull': 'Politechnika Warszawska'}, {'id': 3940, 'firstname': 'Tomasz', 'lastname': 'Leś', 'email': 'tomasz.les@pw.edu.pl', 'title': 'dr hab. inż.', 'room': 'GE 229', 'www': 'www.tomaszles.pl/dydaktyka', 'phone': '22 234 57 60', 'position': 'adiunkt', 'bio_pl': 'Opracowywanie komputerowych metod przetwarzania i  \\n eksploracji danych z obrazów medycznych  do wspomagania diagnostyki', 'bio_en': 'Automatic evaluation system of FISH images in breast cancer.', 'photourl': 'https://isod.ee.pw.edu.pl/isod-portal/photo/key/PavqvTpr16GGIco03mA.dat', 'orgunit': 'IETiSIP', 'orgunitfull': 'Instytut Elektrotechniki Teoretycznej i Systemów Informacyjno-Pomiarowych', 'facultyorgunit': 'EE', 'facultyorgunitfull': 'Wydział Elektryczny', 'universityorgunit': 'PW', 'universityorgunitfull': 'Politechnika Warszawska'}, {'id': 79, 'firstname': 'Tomasz', 'lastname': 'Markiewicz', 'email': 'tomasz.markiewicz@pw.edu.pl', 'title': 'prof. dr hab. inż.', 'room': 'GE 229', 'www': '', 'phone': '22 234 72 35', 'position': 'profesor', 'bio_pl': 'Przetwarzanie obrazów i sygnałów biomedycznych,w szczególności mikroskopowych i tomograficznych. Metody morfologii matematycznej, sztucznych sieci neuronowych, oraz data mining.', 'bio_en': 'Processing of biomedical images and signals, in particular microscopic and tomographic. Mathematical morphology methods, artificial neural networks and data mining.', 'photourl': 'https://isod.ee.pw.edu.pl/isod-portal/photo/key/fCZSxAECq8b40DdFNv40g.dat', 'orgunit': 'IETiSIP', 'orgunitfull': 'Instytut Elektrotechniki Teoretycznej i Systemów Informacyjno-Pomiarowych', 'facultyorgunit': 'EE', 'facultyorgunitfull': 'Wydział Elektryczny', 'universityorgunit': 'PW', 'universityorgunitfull': 'Politechnika Warszawska'}, {'id': 2841, 'firstname': 'Wiktor', 'lastname': 'Nowakowski', 'email': 'nowakoww@iem.pw.edu.pl', 'title': 'mgr inż.', 'room': 'GE 224', 'www': 'smog.iem.pw.edu.pl', 'phone': '22 234 75 43', 'position': 'doktorant', 'bio_pl': 'Inżynieria oprogramowania. Metody i narzędzia do wytwarzania oprogramowania sterowanego modelami.', 'bio_en': 'Software engineering. Methods and tools for model-driven software development.', 'photourl': 'https://isod.ee.pw.edu.pl/isod-portal/photo/key/CpAsndGh64d5P81CSTl4A.dat', 'orgunit': 'IETiSIP', 'orgunitfull': 'Instytut Elektrotechniki Teoretycznej i Systemów Informacyjno-Pomiarowych', 'facultyorgunit': 'EE', 'facultyorgunitfull': 'Wydział Elektryczny', 'universityorgunit': 'PW', 'universityorgunitfull': 'Politechnika Warszawska'}, {'id': 78, 'firstname': 'Stanisław', 'lastname': 'Osowski', 'email': 'stanislaw.osowski@pw.edu.pl', 'title': 'prof. dr hab. inż.', 'room': 'GE 229', 'www': 'http://www.iem.pw.edu.pl/~sto', 'phone': '22 234 51 73', 'position': 'profesor', 'bio_pl': 'Metody eksploracji danych w zastosowaniu do rozwiązania zadań klasyfikacji i predykcji. Sieci neuronowe, neuronowo-rozmyte i SVM. Metody sztucznej inteligencji do przetwarzania danych biomedycznych.', 'bio_en': 'Data mining, neural networks, neuro-fuzzy networks and Support Vector Machines (practical aspects of applications). Artificial intelligence methods for biomedical data processing.', 'photourl': 'https://isod.ee.pw.edu.pl/isod-portal/photo/key/aukcsEBorXg6FyjbpmrTsg.dat', 'orgunit': 'IETiSIP', 'orgunitfull': 'Instytut Elektrotechniki Teoretycznej i Systemów Informacyjno-Pomiarowych', 'facultyorgunit': 'EE', 'facultyorgunitfull': 'Wydział Elektryczny', 'universityorgunit': 'PW', 'universityorgunitfull': 'Politechnika Warszawska'}, {'id': 36153, 'firstname': 'Mateusz', 'lastname': 'Pakosz', 'email': '01127562@pw.edu.pl', 'room': '', 'www': '', 'phone': '', 'position': 'doktorant', 'bio_pl': '', 'bio_en': '', 'orgunit': 'IETiSIP', 'orgunitfull': 'Instytut Elektrotechniki Teoretycznej i Systemów Informacyjno-Pomiarowych', 'facultyorgunit': 'EE', 'facultyorgunitfull': 'Wydział Elektryczny', 'universityorgunit': 'PW', 'universityorgunitfull': 'Politechnika Warszawska'}, {'id': 29585, 'firstname': 'Rafał', 'lastname': 'Parol', 'email': '00240771@pw.edu.pl', 'title': 'mgr inż.', 'room': 'GE 501', 'www': 'www.iem.pw.edu.pl/~parolr', 'phone': '+48 664-319-569', 'position': 'doktorant', 'bio_pl': '', 'bio_en': '', 'photourl': 'https://isod.ee.pw.edu.pl/isod-portal/photo/key/XOiXXZKtWFH9jY7pxxmHdg.dat', 'orgunit': 'IETiSIP', 'orgunitfull': 'Instytut Elektrotechniki Teoretycznej i Systemów Informacyjno-Pomiarowych', 'facultyorgunit': 'EE', 'facultyorgunitfull': 'Wydział Elektryczny', 'universityorgunit': 'PW', 'universityorgunitfull': 'Politechnika Warszawska'}, {'id': 2016, 'firstname': 'Maciej', 'lastname': 'Polakowski', 'email': '01004382@pw.edu.pl', 'title': 'mgr inż.', 'room': 'GE 224', 'www': '', 'phone': '-', 'position': 'doktorant', 'bio_pl': '', 'bio_en': '', 'orgunit': 'IETiSIP', 'orgunitfull': 'Instytut Elektrotechniki Teoretycznej i Systemów Informacyjno-Pomiarowych', 'facultyorgunit': 'EE', 'facultyorgunitfull': 'Wydział Elektryczny', 'universityorgunit': 'PW', 'universityorgunitfull': 'Politechnika Warszawska'}, {'id': 26438, 'firstname': 'Bartosz', 'lastname': 'Poławski', 'email': '00154703@pw.edu.pl', 'title': 'mgr inż.', 'room': 'GE229', 'www': '', 'phone': '22 234 5760', 'position': 'doktorant', 'bio_pl': '', 'bio_en': '', 'orgunit': 'IETiSIP', 'orgunitfull': 'Instytut Elektrotechniki Teoretycznej i Systemów Informacyjno-Pomiarowych', 'facultyorgunit': 'EE', 'facultyorgunitfull': 'Wydział Elektryczny', 'universityorgunit': 'PW', 'universityorgunitfull': 'Politechnika Warszawska'}, {'id': 29416, 'firstname': 'Radosław', 'lastname': 'Roszczyk', 'email': 'radoslaw.roszczyk@pw.edu.pl', 'title': 'dr inż.', 'room': 'GE224', 'www': 'https://blog.roszczyk.net', 'phone': '22 234 75 43', 'position': 'adiunkt', 'bio_pl': 'Analiza i przetwarzanie obrazów biomedycznych. Obliczenia równoległe i wielkoskalowe. Metodyki wytwarzania oprogramowania. Języki i metody programowania.', 'bio_en': 'Analysis and processing of biomedical images. Parallel and large-scale calculations. Software development methodologies. Programming languages and software development methodologies.', 'photourl': 'https://isod.ee.pw.edu.pl/isod-portal/photo/key/30JUnzI7OYkxtDNJOlAG0Q.dat', 'orgunit': 'IETiSIP', 'orgunitfull': 'Instytut Elektrotechniki Teoretycznej i Systemów Informacyjno-Pomiarowych', 'facultyorgunit': 'EE', 'facultyorgunitfull': 'Wydział Elektryczny', 'universityorgunit': 'PW', 'universityorgunitfull': 'Politechnika Warszawska'}, {'id': 3954, 'firstname': 'Kamil', 'lastname': 'Rybiński', 'email': 'kamil.rybinski@pw.edu.pl', 'title': 'dr inż.', 'room': 'GE 221', 'www': '', 'phone': '-', 'position': 'adiunkt', 'bio_pl': 'Inżynieria Oprogramowania, Wytwarzanie Oprogramowania Sterowane Modelami, Reprezentacja Wiedzy', 'bio_en': 'Software Engineering, Model-Driven Architecture, Knowledge Representation', 'photourl': 'https://isod.ee.pw.edu.pl/isod-portal/photo/key/pIhFEGGJyzM97fySyAxfg.dat', 'orgunit': 'IETiSIP', 'orgunitfull': 'Instytut Elektrotechniki Teoretycznej i Systemów Informacyjno-Pomiarowych', 'facultyorgunit': 'EE', 'facultyorgunitfull': 'Wydział Elektryczny', 'universityorgunit': 'PW', 'universityorgunitfull': 'Politechnika Warszawska'}, {'id': 2475, 'firstname': 'Bartosz', 'lastname': 'Sawicki', 'email': 'bartosz.sawicki@pw.edu.pl', 'title': 'dr hab. inż.', 'room': 'GE 229', 'www': 'http://www.iem.pw.edu.pl/~sawickib/', 'phone': '22 234 57 60', 'position': 'profesor uczelni', 'bio_pl': 'Metody i narzędzia symulacji komputerowej problemów bioelektromagnetyzmu. Otwarte i nowoczesne technologie internetowe.', 'bio_en': 'Methods and tools for computational bioelectromagnetics. Open-source and modern Internet technologies.', 'photourl': 'https://isod.ee.pw.edu.pl/isod-portal/photo/key/jC52SF0mNmMLPn3NMDYa8w.dat', 'orgunit': 'IETiSIP', 'orgunitfull': 'Instytut Elektrotechniki Teoretycznej i Systemów Informacyjno-Pomiarowych', 'facultyorgunit': 'EE', 'facultyorgunitfull': 'Wydział Elektryczny', 'universityorgunit': 'PW', 'universityorgunitfull': 'Politechnika Warszawska'}, {'id': 2449, 'firstname': 'Krzysztof', 'lastname': 'Siwek', 'email': 'krzysztof.siwek@pw.edu.pl', 'title': 'dr hab. inż.', 'room': 'GE 220', 'www': 'http://www.iem.pw.edu.pl/~ksiwek', 'phone': '22 234 60 15', 'position': 'profesor uczelni', 'bio_pl': 'Zainteresowania naukowe:\\n - Przetwarzanie sygnałów, sieci neuronowe, algorytmy ewolucyjne i genetyczne, uczenie maszynowe, deep learning, NLP. \\n - Metody predykcji w problemach inżynierskich, biomedycznych i ochrony środowiska. \\n - Rozpoznawanie twarzy, gestów, mimiki, emocji i zachowania\\n - Rozpoznawanie obiektów 2D i 3D przy użyciu uczenia maszynowego. \\n - Zastosowania praktyczne \"sztucznego nosa\".', 'bio_en': 'Neural networks, signal processing and genetic algorithms. Practical application of the developed methods for prediction and classification problems.', 'photourl': 'https://isod.ee.pw.edu.pl/isod-portal/photo/key/J1jQSouNHVFWoxRyYwHg.dat', 'orgunit': 'IETiSIP', 'orgunitfull': 'Instytut Elektrotechniki Teoretycznej i Systemów Informacyjno-Pomiarowych', 'facultyorgunit': 'EE', 'facultyorgunitfull': 'Wydział Elektryczny', 'universityorgunit': 'PW', 'universityorgunitfull': 'Politechnika Warszawska'}, {'id': 2481, 'firstname': 'Maciej', 'lastname': 'Stodolski', 'email': 'maciej.stodolski@pw.edu.pl', 'title': 'dr inż.', 'room': 'GE 227', 'www': '', 'phone': '22 234 71 38', 'position': 'adiunkt', 'bio_pl': 'Bazy danych, programowanie obiektowe. Algorytmy optymalizacji. Aplikacje biznesowe.', 'bio_en': 'Databases, objective programming. Optimization algorithms. Business applications.', 'photourl': 'https://isod.ee.pw.edu.pl/isod-portal/photo/key/WmhnTIF7t3f6jU5qyXwQ.dat', 'orgunit': 'IETiSIP', 'orgunitfull': 'Instytut Elektrotechniki Teoretycznej i Systemów Informacyjno-Pomiarowych', 'facultyorgunit': 'EE', 'facultyorgunitfull': 'Wydział Elektryczny', 'universityorgunit': 'PW', 'universityorgunitfull': 'Politechnika Warszawska'}, {'id': 25949, 'firstname': 'Tomasz', 'lastname': 'Straszak', 'email': '5273@pw.edu.pl', 'title': 'mgr inż.', 'room': '-', 'www': '', 'phone': '-', 'position': 'doktorant', 'bio_pl': '', 'bio_en': '', 'photourl': 'https://isod.ee.pw.edu.pl/isod-portal/photo/key/u4fO3yg4HN9BG6VO3S2Q.dat', 'orgunit': 'IETiSIP', 'orgunitfull': 'Instytut Elektrotechniki Teoretycznej i Systemów Informacyjno-Pomiarowych', 'facultyorgunit': 'EE', 'facultyorgunitfull': 'Wydział Elektryczny', 'universityorgunit': 'PW', 'universityorgunitfull': 'Politechnika Warszawska'}, {'id': 27035, 'firstname': 'Paweł', 'lastname': 'Szczepanowski', 'email': '01027373@pw.edu.pl', 'title': 'mgr inż.', 'room': 'GE 501', 'www': '', 'phone': '(22) 628-45-68', 'position': 'doktorant', 'bio_pl': '', 'bio_en': '', 'photourl': 'https://isod.ee.pw.edu.pl/isod-portal/photo/key/MSsQjYjNT2mmPm6e9f5w', 'orgunit': 'IETiSIP', 'orgunitfull': 'Instytut Elektrotechniki Teoretycznej i Systemów Informacyjno-Pomiarowych', 'facultyorgunit': 'EE', 'facultyorgunitfull': 'Wydział Elektryczny', 'universityorgunit': 'PW', 'universityorgunitfull': 'Politechnika Warszawska'}, {'id': 53, 'firstname': 'Robert', 'lastname': 'Szmurło', 'email': 'robert.szmurlo@pw.edu.pl', 'title': 'dr inż.', 'room': 'GE 223', 'www': 'http://www.iem.pw.edu.pl/~szmurlor', 'phone': '+48 22 234 53 87', 'position': 'adiunkt', 'bio_pl': 'Robert Szmurło jest związany z Politechniką Warszawską od 2000 roku, kiedy rozpoczął studia doktoranckie. W 2003 roku został zatrudniony na stanowisku asystenta, a od 2007 roku jest adiunktem. Uczestniczył w ponad 10 projektach badawczych (finansowanych przez Ministerstwo Nauki, firmy komercyjne i granty Unii Europejskiej), które dotyczyły metod symulacji komputerowych. Tematyka projektów dotyczyła zastosowania modelowania pól elektromagnetycznych w medycynie, modelowania elektrycznych układów zasilania impulsowego, sztucznej inteligencji w medycynie do planowania radioterapii, metod modelowania systemów informatycznych i nie tylko. Jest autorem 55 artykułów naukowych z indeksem Hirsha 4 (Scopus) i 6 (Google Scholar). Skumulowany współczynnik IF jego prac badawczych wynosi 12,4. Jego najnowsza działalność badawcza związana jest z informatyką stosowaną oraz zastosowaniem metod obliczeniowych i sztucznej inteligencji w medycynie i elektrotechnice.\\n\\nJestem pracownikiem naukowo-dydaktycznym Politechniki Warszawskiej. Moje zainteresowania naukowe są związane z bioelektromagnetyzmem i metodami symulacji inżynierskich. Główna część moich prac jest związana z zagadnieniami pola elektromagnetycznego, modelowaniem zagadnień prostych do lokalizacji źródeł aktywności mózgu, grafika komputerowa, obrazowanie medyczne oraz metody programowania (języki C++, Python, Java, JavaScript). Jestem członkiem Grupy Otwartego Oprogramowania Pola Elektromagnetycznego (GOOPE). W swoich badaniach zajmuję się modelowaniem samoczynnej oraz stymulowanej elektrycznie aktywności mózgu w realistycznych modelach głowy uzyskanych z obrazów MRI (rezonans magnetyczny). Modelowaniem depozycji dawek podczas radioterapii komórek nowotworowych.\\n\\nDydaktycznie, prowadzę przedmioty związane z metodami numerycznymi, metodyka programowania oraz projektowaniem graficznych interfejsów użytkownika.', 'bio_en': 'Robert Szmurło is with Warsaw University of Technology since year 2000 when he started his Phd education. In 2003 he was employed as an assistant and since 2007 he is an assistant professor. He participated in more that 10 research projects (funded by polish Ministry of Science, commercial companies and European Union grants) which were all related to computer simulation methods. The subjects of the projects were related to modeling  applications of electromagnetic fields in medical treatment, modeling electric impulse power supply systems, artificial intelligence in medicine for Radiotherapy planning, methods of modeling information systems and more. He is an author of 55 research papers with Hirsh index 4 (Scopus) and 6 (Google Scholar). The cumulative impact factor of his research papers is 12.4. His most recent research activity is related to applied computer science and application of computational methods and artificial intelligence in medicine and electrical engineering. \\n\\nTeaching activity: computer software design and implementation. Graphical user interfaces, UX. Modern user interfaces.', 'photourl': 'https://isod.ee.pw.edu.pl/isod-portal/photo/key/xfopdMNVCFSM4QKqCByUjQ', 'orgunit': 'IETiSIP', 'orgunitfull': 'Instytut Elektrotechniki Teoretycznej i Systemów Informacyjno-Pomiarowych', 'facultyorgunit': 'EE', 'facultyorgunitfull': 'Wydział Elektryczny', 'universityorgunit': 'PW', 'universityorgunitfull': 'Politechnika Warszawska'}, {'id': 2446, 'firstname': 'Andrzej', 'lastname': 'Toboła', 'email': 'andrzej.tobola@pw.edu.pl', 'title': 'mgr inż.', 'room': 'GE 227', 'www': 'http://www.iem.pw.edu.pl/~ato/', 'phone': '22 234 71 38', 'position': 'starszy wykładowca', 'bio_pl': 'Sieci komputerowe, systemy operacyjne, systemy rozproszone, centra danych, klastry, oprogramowanie systemowe, komputerowa analiza i synteza obwodów, obwody przełączane.', 'bio_en': 'Computer networks, operating systems, distributed systems, data-centers, cloud computing, clusters, system programming, computer aided design of circuits, switching circuits.', 'photourl': 'https://isod.ee.pw.edu.pl/isod-portal/photo/key/azTgkGNZV1R5CMhK3fgw.dat', 'orgunit': 'IETiSIP', 'orgunitfull': 'Instytut Elektrotechniki Teoretycznej i Systemów Informacyjno-Pomiarowych', 'facultyorgunit': 'EE', 'facultyorgunitfull': 'Wydział Elektryczny', 'universityorgunit': 'PW', 'universityorgunitfull': 'Politechnika Warszawska'}, {'id': 3237, 'firstname': 'Andrzej', 'lastname': 'Tolarczyk', 'email': 'tolarczyk@hotmail.com', 'title': 'mgr inż.', 'room': 'GE 501', 'www': '', 'phone': '-', 'position': 'doktorant', 'bio_pl': '', 'bio_en': '', 'photourl': 'https://isod.ee.pw.edu.pl/isod-portal/photo/key/PKll2sUzRP41BjhRWQcKaw.dat', 'orgunit': 'IETiSIP', 'orgunitfull': 'Instytut Elektrotechniki Teoretycznej i Systemów Informacyjno-Pomiarowych', 'facultyorgunit': 'EE', 'facultyorgunitfull': 'Wydział Elektryczny', 'universityorgunit': 'PW', 'universityorgunitfull': 'Politechnika Warszawska'}, {'id': 1275, 'firstname': 'Marek', 'lastname': 'Wdowiak', 'email': 'marek.wdowiak@pw.edu.pl', 'title': 'mgr inż.', 'room': 'GE-b 224', 'www': '', 'phone': '22 234 75 43 (tylko w godzinach konsultacji)', 'position': 'asystent', 'bio_pl': 'Obszar badań skupiony na komputerowych metodach wspomagania diagnozy lekarskiej. Badania w szczególności skupiają się na zagadnieniach takich jak: segmentacja oraz analiza ilościowa obrazów mikroskopowych, techniki morfologii matematycznej w filtracji obrazu, uczenie maszynowe.', 'bio_en': 'Researched field focuses on aiding medical diagnosis with computer science. Conducted research centres around issues, such as segmentation and quantitative analysis of microscopic images, mathematical morphology in image filtration, machine learning.', 'photourl': 'https://isod.ee.pw.edu.pl/isod-portal/photo/key/5xRQHfv0kRiCeHwulV1A.dat', 'orgunit': 'IETiSIP', 'orgunitfull': 'Instytut Elektrotechniki Teoretycznej i Systemów Informacyjno-Pomiarowych', 'facultyorgunit': 'EE', 'facultyorgunitfull': 'Wydział Elektryczny', 'universityorgunit': 'PW', 'universityorgunitfull': 'Politechnika Warszawska'}, {'id': 27041, 'firstname': 'Bartosz', 'lastname': 'Wierciński', 'email': '01027368@pw.edu.pl', 'title': 'mgr inż.', 'room': 'GE 501', 'www': '', 'phone': '234 57 40', 'position': 'doktorant', 'bio_pl': '', 'bio_en': '', 'orgunit': 'IETiSIP', 'orgunitfull': 'Instytut Elektrotechniki Teoretycznej i Systemów Informacyjno-Pomiarowych', 'facultyorgunit': 'EE', 'facultyorgunitfull': 'Wydział Elektryczny', 'universityorgunit': 'PW', 'universityorgunitfull': 'Politechnika Warszawska'}, {'id': 2480, 'firstname': 'Jarosław', 'lastname': 'Wilk', 'email': 'jaroslaw.wilk@pw.edu.pl', 'title': 'dr inż.', 'room': 'GG pok. 210', 'www': 'http://www.zkue.ime.pw.edu.pl/', 'phone': '22 234 53 86', 'position': 'adiunkt', 'bio_pl': 'Realizacja projektów informatycznych metodyką Scrum, wspieranie graficznego interfejsu dedykowanym językiem funkcyjnym.', 'bio_en': 'Implementation of projects with Scrum methodology, supporting the graphical interface with dedicated language function.', 'photourl': 'https://isod.ee.pw.edu.pl/isod-portal/photo/key/TPxEd4WW7fJEjLQoWSXgw.dat', 'orgunit': 'IETiSIP', 'orgunitfull': 'Instytut Elektrotechniki Teoretycznej i Systemów Informacyjno-Pomiarowych', 'facultyorgunit': 'EE', 'facultyorgunitfull': 'Wydział Elektryczny', 'universityorgunit': 'PW', 'universityorgunitfull': 'Politechnika Warszawska'}, {'id': 32054, 'firstname': 'Katarzyna', 'lastname': 'Zagrodzka', 'email': '01136393@pw.edu.pl', 'title': 'mgr inż.', 'room': 'GE 501', 'www': '', 'phone': '234 57 40', 'position': 'doktorant', 'bio_pl': '', 'bio_en': '', 'orgunit': 'IETiSIP', 'orgunitfull': 'Instytut Elektrotechniki Teoretycznej i Systemów Informacyjno-Pomiarowych', 'facultyorgunit': 'EE', 'facultyorgunitfull': 'Wydział Elektryczny', 'universityorgunit': 'PW', 'universityorgunitfull': 'Politechnika Warszawska'}, {'id': 2448, 'firstname': 'Michał', 'lastname': 'Śmiałek', 'email': 'michal.smialek@pw.edu.pl', 'title': 'dr hab. inż.', 'room': 'GE 221', 'www': 'smialek.iem.pw.edu.pl', 'phone': '22 234 60 78', 'position': 'profesor uczelni', 'bio_pl': 'Metody i narzędzia usprawniające procesy inżynierii oprogramowania. Wytwarzanie oprogramowania sterowane modelami z naciskiem na modelowanie wymagań.', 'bio_en': 'Methods and tools for the improvement of software engineering processes. Model-driven software development with the emphasis on requirements models.', 'photourl': 'https://isod.ee.pw.edu.pl/isod-portal/photo/key/zDniQt5SlXH9aF87yftYyQ.dat', 'orgunit': 'IETiSIP', 'orgunitfull': 'Instytut Elektrotechniki Teoretycznej i Systemów Informacyjno-Pomiarowych', 'facultyorgunit': 'EE', 'facultyorgunitfull': 'Wydział Elektryczny', 'universityorgunit': 'PW', 'universityorgunitfull': 'Politechnika Warszawska'}, {'id': 28687, 'firstname': 'Żaneta', 'lastname': 'Świderska-Chadaj', 'email': 'zaneta.swiderska@pw.edu.pl', 'title': 'dr hab. inż.', 'room': 'GE 228', 'www': '', 'phone': '22 234 76 14', 'position': 'profesor uczelni', 'bio_pl': 'Opracowanie algorytmów do przetwarzania obrazów patomorfologicznych.', 'bio_en': 'Automatic evaluation systems of pathomorphological images.', 'photourl': 'https://isod.ee.pw.edu.pl/isod-portal/photo/key/CgZxV5gD1nRdtvuHJr2w', 'orgunit': 'IETiSIP', 'orgunitfull': 'Instytut Elektrotechniki Teoretycznej i Systemów Informacyjno-Pomiarowych', 'facultyorgunit': 'EE', 'facultyorgunitfull': 'Wydział Elektryczny', 'universityorgunit': 'PW', 'universityorgunitfull': 'Politechnika Warszawska'}, {'id': 3106, 'firstname': 'Łukasz', 'lastname': 'Żmudzin', 'email': '01012930@pw.edu.pl', 'title': 'mgr inż.', 'room': 'GE 501', 'www': '', 'phone': '234 57 40', 'position': 'doktorant', 'bio_pl': '', 'bio_en': '', 'orgunit': 'IETiSIP', 'orgunitfull': 'Instytut Elektrotechniki Teoretycznej i Systemów Informacyjno-Pomiarowych', 'facultyorgunit': 'EE', 'facultyorgunitfull': 'Wydział Elektryczny', 'universityorgunit': 'PW', 'universityorgunitfull': 'Politechnika Warszawska'}]\n"
          ]
        }
      ]
    },
    {
      "cell_type": "markdown",
      "source": [
        "Problem 5 - Closures\n",
        "\n",
        "Make a nested function and a python closure to make functions to get multiple multiplication functions using closures. That is using closures, one could make functions to create multiply_with_5() or multiply_with_4() functions.\n",
        "\n"
      ],
      "metadata": {
        "id": "j6ADqPRMQahJ"
      }
    },
    {
      "cell_type": "code",
      "source": [
        "def multiplier_of(n):\n",
        "  def _wrapper(x):\n",
        "    return n*x\n",
        "\n",
        "  return _wrapper\n",
        "\n",
        "# test code\n",
        "multiply_with_5 = multiplier_of(5)\n",
        "print(multiply_with_5(9))\n",
        "# should return 45\n",
        "\n",
        "multiply_with_45 = multiplier_of(multiply_with_5(9))\n",
        "print(multiply_with_45(2))\n",
        "# should return: 90\n"
      ],
      "metadata": {
        "colab": {
          "base_uri": "https://localhost:8080/"
        },
        "id": "2vj74R1cQkyd",
        "outputId": "1e3e51fc-af09-4ed1-8be4-c1ba49336205"
      },
      "execution_count": null,
      "outputs": [
        {
          "output_type": "stream",
          "name": "stdout",
          "text": [
            "45\n",
            "90\n"
          ]
        }
      ]
    },
    {
      "cell_type": "markdown",
      "source": [
        "Problem 6 - decorators with arguments\n",
        "\n",
        "Make a decorator factory which returns a decorator that decorates functions with one argument. The factory should take one argument, a type, and then return a decorator that makes the function should check if the input is the correct type. If it is wrong, it should print(\"Bad Type\") or it should raise an error (you choice). Using isinstance(object, type_of_object) or type(object) might help."
      ],
      "metadata": {
        "id": "c7aN0rgqTZG2"
      }
    },
    {
      "cell_type": "code",
      "source": [
        "def type_check(correct_type):\n",
        "    def check(the_decorated_function):\n",
        "        def _wrapper(v):\n",
        "          if isinstance(v, correct_type):\n",
        "            return the_decorated_function\n",
        "          else:\n",
        "            print(f\"Bad type, expected {correct_type} received {type(v)}!\")\n",
        "        return _wrapper\n",
        "    return check\n",
        "\n",
        "# Use  isinstance(arg, correct_type) to check if arg is of correct type\n",
        "\n",
        "@type_check(int)\n",
        "def times2(num):\n",
        "    return num*2\n",
        "\n",
        "print(times2(2))\n",
        "times2('Not A Number')\n",
        "\n",
        "@type_check(str)\n",
        "def first_letter(word):\n",
        "    return word[0]\n",
        "\n",
        "print(first_letter('Hello World'))\n",
        "first_letter(['Not', 'A', 'String'])"
      ],
      "metadata": {
        "colab": {
          "base_uri": "https://localhost:8080/"
        },
        "id": "inQY9kv3TYUi",
        "outputId": "4387ca73-4c93-4729-f762-a5eb36c2413d"
      },
      "execution_count": null,
      "outputs": [
        {
          "output_type": "stream",
          "name": "stdout",
          "text": [
            "<function times2 at 0x7eb574b76cb0>\n",
            "Bad type, expected <class 'int'> received <class 'str'>!\n",
            "<function first_letter at 0x7eb574b76170>\n",
            "Bad type, expected <class 'str'> received <class 'list'>!\n"
          ]
        }
      ]
    },
    {
      "cell_type": "markdown",
      "source": [
        "Problem 7 - Registering Plugins\n",
        "\n",
        "Decorators don’t have to wrap the function they’re decorating always. They can also simply register in some collection that a function exists and return it unwrapped (unchanged). This can be used, for instance, to create a light-weight plug-in architecture, or observer pattern:"
      ],
      "metadata": {
        "id": "QNg45y17_Kg9"
      }
    },
    {
      "cell_type": "code",
      "source": [
        "import random\n",
        "PLUGINS = dict()\n",
        "\n",
        "def register(orginal_func):\n",
        "  PLUGINS[orginal_func.__name__] = orginal_func\n",
        "  def _wrapper(name):\n",
        "    return orginal_func(name)\n",
        "  return _wrapper\n",
        "  #return orginal_func\n",
        "\n",
        "@register\n",
        "def say_hello(name):\n",
        "    return f\"Hello {name}\"\n",
        "\n",
        "@register\n",
        "def be_awesome(name):\n",
        "    return f\"Yo {name}, together we are the awesomest!\"\n",
        "\n",
        "@register\n",
        "def polish_greeter(name):\n",
        "    return f\"Hej {name}, jak sie masz\"\n",
        "\n",
        "def randomly_greet(name):\n",
        "    greeter, greeter_func = random.choice(list(PLUGINS.items()))\n",
        "    print(f\"Using {greeter!r}\")\n",
        "    return greeter_func(name)\n",
        "\n",
        "randomly_greet('John')\n",
        "randomly_greet('John')\n",
        "randomly_greet('John')\n",
        "randomly_greet('John')\n",
        "randomly_greet('John')\n",
        "randomly_greet('John')"
      ],
      "metadata": {
        "colab": {
          "base_uri": "https://localhost:8080/",
          "height": 141
        },
        "id": "Y12_MOcb_LUQ",
        "outputId": "e9121f42-211f-4919-96c8-9b4fbef1286e"
      },
      "execution_count": null,
      "outputs": [
        {
          "output_type": "stream",
          "name": "stdout",
          "text": [
            "Using 'be_awesome'\n",
            "Using 'say_hello'\n",
            "Using 'say_hello'\n",
            "Using 'polish_greeter'\n",
            "Using 'say_hello'\n",
            "Using 'be_awesome'\n"
          ]
        },
        {
          "output_type": "execute_result",
          "data": {
            "text/plain": [
              "'Yo John, together we are the awesomest!'"
            ],
            "application/vnd.google.colaboratory.intrinsic+json": {
              "type": "string"
            }
          },
          "metadata": {},
          "execution_count": 5
        }
      ]
    }
  ]
}