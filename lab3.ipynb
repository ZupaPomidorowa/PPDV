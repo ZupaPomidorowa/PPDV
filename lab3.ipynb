{
  "nbformat": 4,
  "nbformat_minor": 0,
  "metadata": {
    "colab": {
      "provenance": []
    },
    "kernelspec": {
      "name": "python3",
      "display_name": "Python 3"
    },
    "language_info": {
      "name": "python"
    }
  },
  "cells": [
    {
      "cell_type": "code",
      "execution_count": null,
      "metadata": {
        "id": "RAVtd88zKmKz"
      },
      "outputs": [],
      "source": [
        "import numpy as np"
      ]
    },
    {
      "cell_type": "code",
      "source": [
        "A = np.array(range(10), dtype=np.int16)"
      ],
      "metadata": {
        "id": "PjdLdkWFMuqa"
      },
      "execution_count": null,
      "outputs": []
    },
    {
      "cell_type": "code",
      "source": [
        "A.nbytes"
      ],
      "metadata": {
        "colab": {
          "base_uri": "https://localhost:8080/"
        },
        "id": "2qXa1bHbM4Z4",
        "outputId": "a5860afb-e253-4c63-efb0-5fbca8b83e84"
      },
      "execution_count": null,
      "outputs": [
        {
          "output_type": "execute_result",
          "data": {
            "text/plain": [
              "20"
            ]
          },
          "metadata": {},
          "execution_count": 6
        }
      ]
    },
    {
      "cell_type": "code",
      "source": [
        "#linear algebra operations\n",
        "import numpy.linalg"
      ],
      "metadata": {
        "id": "8zyyjVEGNHc0"
      },
      "execution_count": null,
      "outputs": []
    },
    {
      "cell_type": "code",
      "source": [
        "#Create an array of 10 zeros\n",
        "np.zeros(10)"
      ],
      "metadata": {
        "colab": {
          "base_uri": "https://localhost:8080/"
        },
        "id": "DuQKYL4oN6ey",
        "outputId": "b1d0bb01-2876-4763-bd3a-fa6fc914ac10"
      },
      "execution_count": null,
      "outputs": [
        {
          "output_type": "execute_result",
          "data": {
            "text/plain": [
              "array([0., 0., 0., 0., 0., 0., 0., 0., 0., 0.])"
            ]
          },
          "metadata": {},
          "execution_count": 8
        }
      ]
    },
    {
      "cell_type": "code",
      "source": [
        "#Create an array of 10 ones\n",
        "np.ones(10)"
      ],
      "metadata": {
        "colab": {
          "base_uri": "https://localhost:8080/"
        },
        "id": "6371IPPnOQ6w",
        "outputId": "15a65c56-f865-4eb3-d62c-3bf0fd52bcc5"
      },
      "execution_count": null,
      "outputs": [
        {
          "output_type": "execute_result",
          "data": {
            "text/plain": [
              "array([1., 1., 1., 1., 1., 1., 1., 1., 1., 1.])"
            ]
          },
          "metadata": {},
          "execution_count": 9
        }
      ]
    },
    {
      "cell_type": "code",
      "source": [
        "#Create an array of 10 fives\n",
        "np.ones(10)*5"
      ],
      "metadata": {
        "colab": {
          "base_uri": "https://localhost:8080/"
        },
        "id": "m-iTcfogObDh",
        "outputId": "09cd1ffd-5767-4eb2-e783-d0dec48919f1"
      },
      "execution_count": null,
      "outputs": [
        {
          "output_type": "execute_result",
          "data": {
            "text/plain": [
              "array([5., 5., 5., 5., 5., 5., 5., 5., 5., 5.])"
            ]
          },
          "metadata": {},
          "execution_count": 10
        }
      ]
    },
    {
      "cell_type": "code",
      "source": [
        "#Create an array of integers from 10 to 50\n",
        "np.array(range(10, 51))"
      ],
      "metadata": {
        "colab": {
          "base_uri": "https://localhost:8080/"
        },
        "id": "3YWONZgQOnxk",
        "outputId": "f048d40d-bd2b-47a6-87ce-8a5f0fcfbd36"
      },
      "execution_count": null,
      "outputs": [
        {
          "output_type": "execute_result",
          "data": {
            "text/plain": [
              "array([10, 11, 12, 13, 14, 15, 16, 17, 18, 19, 20, 21, 22, 23, 24, 25, 26,\n",
              "       27, 28, 29, 30, 31, 32, 33, 34, 35, 36, 37, 38, 39, 40, 41, 42, 43,\n",
              "       44, 45, 46, 47, 48, 49, 50])"
            ]
          },
          "metadata": {},
          "execution_count": 11
        }
      ]
    },
    {
      "cell_type": "code",
      "source": [
        "np.arange(10, 51)"
      ],
      "metadata": {
        "colab": {
          "base_uri": "https://localhost:8080/"
        },
        "id": "K5pGNuZIOz59",
        "outputId": "95b67cea-b27d-40fc-d19c-ae352494e018"
      },
      "execution_count": null,
      "outputs": [
        {
          "output_type": "execute_result",
          "data": {
            "text/plain": [
              "array([10, 11, 12, 13, 14, 15, 16, 17, 18, 19, 20, 21, 22, 23, 24, 25, 26,\n",
              "       27, 28, 29, 30, 31, 32, 33, 34, 35, 36, 37, 38, 39, 40, 41, 42, 43,\n",
              "       44, 45, 46, 47, 48, 49, 50])"
            ]
          },
          "metadata": {},
          "execution_count": 12
        }
      ]
    },
    {
      "cell_type": "code",
      "source": [
        "#Create an array of all the even integers from 10 to 50\n",
        "np.arange(10, 51, 2)"
      ],
      "metadata": {
        "colab": {
          "base_uri": "https://localhost:8080/"
        },
        "id": "ltkbsft3O_1c",
        "outputId": "55324979-7b14-44ac-9082-ffc29b031425"
      },
      "execution_count": null,
      "outputs": [
        {
          "output_type": "execute_result",
          "data": {
            "text/plain": [
              "array([10, 12, 14, 16, 18, 20, 22, 24, 26, 28, 30, 32, 34, 36, 38, 40, 42,\n",
              "       44, 46, 48, 50])"
            ]
          },
          "metadata": {},
          "execution_count": 13
        }
      ]
    },
    {
      "cell_type": "code",
      "source": [
        "v = np.arange(10, 51)\n",
        "v[v%2 == 0]"
      ],
      "metadata": {
        "colab": {
          "base_uri": "https://localhost:8080/"
        },
        "id": "rZoFf5kFPVXH",
        "outputId": "7e0e373d-1eef-41c9-c252-6f441e73e0b6"
      },
      "execution_count": null,
      "outputs": [
        {
          "output_type": "execute_result",
          "data": {
            "text/plain": [
              "array([10, 12, 14, 16, 18, 20, 22, 24, 26, 28, 30, 32, 34, 36, 38, 40, 42,\n",
              "       44, 46, 48, 50])"
            ]
          },
          "metadata": {},
          "execution_count": 14
        }
      ]
    },
    {
      "cell_type": "code",
      "source": [
        "#Create a 3x3 matrix with values ranging from 0 to 8\n",
        "np.reshape(np.arange(0,9), (3,3))"
      ],
      "metadata": {
        "colab": {
          "base_uri": "https://localhost:8080/"
        },
        "id": "BXKsa3W4Ppez",
        "outputId": "e4b620e3-952c-436b-cf8c-e97f2f6757ee"
      },
      "execution_count": null,
      "outputs": [
        {
          "output_type": "execute_result",
          "data": {
            "text/plain": [
              "array([[0, 1, 2],\n",
              "       [3, 4, 5],\n",
              "       [6, 7, 8]])"
            ]
          },
          "metadata": {},
          "execution_count": 15
        }
      ]
    },
    {
      "cell_type": "code",
      "source": [
        "#Create a 3x3 identity matrix\n",
        "np.eye(3)"
      ],
      "metadata": {
        "colab": {
          "base_uri": "https://localhost:8080/"
        },
        "id": "E2cUodIKQKVt",
        "outputId": "f7711efd-96e1-45e7-eabd-5895109eaad2"
      },
      "execution_count": null,
      "outputs": [
        {
          "output_type": "execute_result",
          "data": {
            "text/plain": [
              "array([[1., 0., 0.],\n",
              "       [0., 1., 0.],\n",
              "       [0., 0., 1.]])"
            ]
          },
          "metadata": {},
          "execution_count": 16
        }
      ]
    },
    {
      "cell_type": "code",
      "source": [
        "#Use NumPy to generate a random number between 0 and 1\n",
        "np.random.rand(1)"
      ],
      "metadata": {
        "colab": {
          "base_uri": "https://localhost:8080/"
        },
        "id": "ggWvN395Qiwy",
        "outputId": "e2352a49-5a6b-4140-a9e8-c9a9b9fca19f"
      },
      "execution_count": null,
      "outputs": [
        {
          "output_type": "execute_result",
          "data": {
            "text/plain": [
              "array([0.58656128])"
            ]
          },
          "metadata": {},
          "execution_count": 17
        }
      ]
    },
    {
      "cell_type": "code",
      "source": [
        "#Use NumPy to generate an array of 25 random numbers sampled from a standard normal distribution\n",
        "np.random.normal(size=(5, 5))"
      ],
      "metadata": {
        "colab": {
          "base_uri": "https://localhost:8080/"
        },
        "id": "MuA8beMEQzB5",
        "outputId": "ecc00b1b-0875-4ed9-d388-94d435154934"
      },
      "execution_count": null,
      "outputs": [
        {
          "output_type": "execute_result",
          "data": {
            "text/plain": [
              "array([[-1.04763138, -0.19595126,  0.02641649, -1.05285137,  1.93020296],\n",
              "       [ 1.02123433, -1.19354784,  1.16505442,  2.13467135, -1.048489  ],\n",
              "       [ 0.23157814,  0.66571748,  1.59650189,  0.38032189,  0.23222931],\n",
              "       [-0.12322057,  0.65026731,  0.80551614, -1.18938881,  1.24101665],\n",
              "       [ 0.45514145,  0.8516697 ,  0.72910446,  0.69260858,  0.14641548]])"
            ]
          },
          "metadata": {},
          "execution_count": 18
        }
      ]
    },
    {
      "cell_type": "code",
      "source": [
        "#Create the following matrix:\n",
        "np.arange(0.01, 1.01, 0.01).reshape((10,10))"
      ],
      "metadata": {
        "id": "3O2IG_8SRhmG",
        "colab": {
          "base_uri": "https://localhost:8080/"
        },
        "outputId": "dd729fae-de7a-4bd6-8f42-99a34cfdcaeb"
      },
      "execution_count": null,
      "outputs": [
        {
          "output_type": "execute_result",
          "data": {
            "text/plain": [
              "array([[0.01, 0.02, 0.03, 0.04, 0.05, 0.06, 0.07, 0.08, 0.09, 0.1 ],\n",
              "       [0.11, 0.12, 0.13, 0.14, 0.15, 0.16, 0.17, 0.18, 0.19, 0.2 ],\n",
              "       [0.21, 0.22, 0.23, 0.24, 0.25, 0.26, 0.27, 0.28, 0.29, 0.3 ],\n",
              "       [0.31, 0.32, 0.33, 0.34, 0.35, 0.36, 0.37, 0.38, 0.39, 0.4 ],\n",
              "       [0.41, 0.42, 0.43, 0.44, 0.45, 0.46, 0.47, 0.48, 0.49, 0.5 ],\n",
              "       [0.51, 0.52, 0.53, 0.54, 0.55, 0.56, 0.57, 0.58, 0.59, 0.6 ],\n",
              "       [0.61, 0.62, 0.63, 0.64, 0.65, 0.66, 0.67, 0.68, 0.69, 0.7 ],\n",
              "       [0.71, 0.72, 0.73, 0.74, 0.75, 0.76, 0.77, 0.78, 0.79, 0.8 ],\n",
              "       [0.81, 0.82, 0.83, 0.84, 0.85, 0.86, 0.87, 0.88, 0.89, 0.9 ],\n",
              "       [0.91, 0.92, 0.93, 0.94, 0.95, 0.96, 0.97, 0.98, 0.99, 1.  ]])"
            ]
          },
          "metadata": {},
          "execution_count": 19
        }
      ]
    },
    {
      "cell_type": "code",
      "source": [
        "#Create an array of 20 linearly spaced points between 0 and 1:\n",
        "np.linspace(0, 1, 20)"
      ],
      "metadata": {
        "id": "ooUDrrjlRzgq",
        "colab": {
          "base_uri": "https://localhost:8080/"
        },
        "outputId": "a7a5fed2-acc1-4fff-85eb-dc960a929cce"
      },
      "execution_count": null,
      "outputs": [
        {
          "output_type": "execute_result",
          "data": {
            "text/plain": [
              "array([0.        , 0.05263158, 0.10526316, 0.15789474, 0.21052632,\n",
              "       0.26315789, 0.31578947, 0.36842105, 0.42105263, 0.47368421,\n",
              "       0.52631579, 0.57894737, 0.63157895, 0.68421053, 0.73684211,\n",
              "       0.78947368, 0.84210526, 0.89473684, 0.94736842, 1.        ])"
            ]
          },
          "metadata": {},
          "execution_count": 20
        }
      ]
    },
    {
      "cell_type": "code",
      "source": [
        "#Now you will be given a few matrices, and be asked to replicate the resulting matrix outputs:\n",
        "mat = np.arange(1,26).reshape(5,5)\n",
        "mat"
      ],
      "metadata": {
        "colab": {
          "base_uri": "https://localhost:8080/"
        },
        "id": "MaymJHlfR7sZ",
        "outputId": "31f640a6-98bf-4161-8633-6fe4d5f29d9b"
      },
      "execution_count": null,
      "outputs": [
        {
          "output_type": "execute_result",
          "data": {
            "text/plain": [
              "array([[ 1,  2,  3,  4,  5],\n",
              "       [ 6,  7,  8,  9, 10],\n",
              "       [11, 12, 13, 14, 15],\n",
              "       [16, 17, 18, 19, 20],\n",
              "       [21, 22, 23, 24, 25]])"
            ]
          },
          "metadata": {},
          "execution_count": 21
        }
      ]
    },
    {
      "cell_type": "code",
      "source": [
        "#A\n",
        "mat[2:, 1:]"
      ],
      "metadata": {
        "colab": {
          "base_uri": "https://localhost:8080/"
        },
        "id": "Jk0cg-YCSC5V",
        "outputId": "6d1963e9-e458-4460-e5e5-b832ef05b6ba"
      },
      "execution_count": null,
      "outputs": [
        {
          "output_type": "execute_result",
          "data": {
            "text/plain": [
              "array([[12, 13, 14, 15],\n",
              "       [17, 18, 19, 20],\n",
              "       [22, 23, 24, 25]])"
            ]
          },
          "metadata": {},
          "execution_count": 22
        }
      ]
    },
    {
      "cell_type": "code",
      "source": [
        "#B\n",
        "mat[3, -1]"
      ],
      "metadata": {
        "colab": {
          "base_uri": "https://localhost:8080/"
        },
        "id": "ar34-iR4SPFS",
        "outputId": "a14383d5-18c3-4ee1-f744-cfff1d3ab421"
      },
      "execution_count": null,
      "outputs": [
        {
          "output_type": "execute_result",
          "data": {
            "text/plain": [
              "20"
            ]
          },
          "metadata": {},
          "execution_count": 23
        }
      ]
    },
    {
      "cell_type": "code",
      "source": [
        "#C\n",
        "mat[:3,1:2]"
      ],
      "metadata": {
        "colab": {
          "base_uri": "https://localhost:8080/"
        },
        "id": "Q4B2q9SJSUHk",
        "outputId": "b7ef77e4-e1d0-46c7-c22b-15b751d1fbca"
      },
      "execution_count": null,
      "outputs": [
        {
          "output_type": "execute_result",
          "data": {
            "text/plain": [
              "array([[ 2],\n",
              "       [ 7],\n",
              "       [12]])"
            ]
          },
          "metadata": {},
          "execution_count": 24
        }
      ]
    },
    {
      "cell_type": "code",
      "source": [
        "#D\n",
        "mat[-1,:]"
      ],
      "metadata": {
        "colab": {
          "base_uri": "https://localhost:8080/"
        },
        "id": "gM923M_lSr6N",
        "outputId": "04cdbfb7-7727-4cfd-9fef-ebb887aa9eee"
      },
      "execution_count": null,
      "outputs": [
        {
          "output_type": "execute_result",
          "data": {
            "text/plain": [
              "array([21, 22, 23, 24, 25])"
            ]
          },
          "metadata": {},
          "execution_count": 25
        }
      ]
    },
    {
      "cell_type": "code",
      "source": [
        "#E\n",
        "mat[-2:, :]"
      ],
      "metadata": {
        "id": "b9YZBbe7SwT6",
        "colab": {
          "base_uri": "https://localhost:8080/"
        },
        "outputId": "2e9afb0b-cd6d-4c00-85a0-fdf5222ab0c2"
      },
      "execution_count": null,
      "outputs": [
        {
          "output_type": "execute_result",
          "data": {
            "text/plain": [
              "array([[16, 17, 18, 19, 20],\n",
              "       [21, 22, 23, 24, 25]])"
            ]
          },
          "metadata": {},
          "execution_count": 26
        }
      ]
    },
    {
      "cell_type": "code",
      "source": [
        "#Get the sum of all the values in mat\n",
        "np.sum(mat)\n",
        "mat.sum()"
      ],
      "metadata": {
        "colab": {
          "base_uri": "https://localhost:8080/"
        },
        "id": "pU9WTO98SyaI",
        "outputId": "244246b7-8427-40ed-b659-9384ed9d42d0"
      },
      "execution_count": null,
      "outputs": [
        {
          "output_type": "execute_result",
          "data": {
            "text/plain": [
              "325"
            ]
          },
          "metadata": {},
          "execution_count": 27
        }
      ]
    },
    {
      "cell_type": "code",
      "source": [
        "#Get the standard deviation of the values in mat\n",
        "mat.std()"
      ],
      "metadata": {
        "id": "rmWPVfIDS6MV",
        "colab": {
          "base_uri": "https://localhost:8080/"
        },
        "outputId": "e534a804-ea60-42ef-c434-cc0ed546fdde"
      },
      "execution_count": null,
      "outputs": [
        {
          "output_type": "execute_result",
          "data": {
            "text/plain": [
              "7.211102550927978"
            ]
          },
          "metadata": {},
          "execution_count": 28
        }
      ]
    },
    {
      "cell_type": "code",
      "source": [
        "#Get the sum of all the columns in mat\n",
        "mat.sum(axis=0)"
      ],
      "metadata": {
        "colab": {
          "base_uri": "https://localhost:8080/"
        },
        "id": "6EXSuN2mz5yC",
        "outputId": "fd1e5015-9e45-4ef4-aefc-fa6899aa11a9"
      },
      "execution_count": null,
      "outputs": [
        {
          "output_type": "execute_result",
          "data": {
            "text/plain": [
              "array([55, 60, 65, 70, 75])"
            ]
          },
          "metadata": {},
          "execution_count": 32
        }
      ]
    },
    {
      "cell_type": "code",
      "source": [
        "#Find median values in all columns\n",
        "np.median(mat, axis = 0)"
      ],
      "metadata": {
        "colab": {
          "base_uri": "https://localhost:8080/"
        },
        "id": "t7t0j2H20ARc",
        "outputId": "8d88eada-e7e3-4cd7-ec59-3ee237ff97b3"
      },
      "execution_count": null,
      "outputs": [
        {
          "output_type": "execute_result",
          "data": {
            "text/plain": [
              "array([11., 12., 13., 14., 15.])"
            ]
          },
          "metadata": {},
          "execution_count": 33
        }
      ]
    },
    {
      "cell_type": "code",
      "source": [
        "#Find average values in all columns\n",
        "np.mean(mat, axis = 0)"
      ],
      "metadata": {
        "id": "XSMQ0QDQTEpL",
        "colab": {
          "base_uri": "https://localhost:8080/"
        },
        "outputId": "beb8e70f-c93a-479e-a9e4-ee3f12170aba"
      },
      "execution_count": null,
      "outputs": [
        {
          "output_type": "execute_result",
          "data": {
            "text/plain": [
              "array([11., 12., 13., 14., 15.])"
            ]
          },
          "metadata": {},
          "execution_count": 34
        }
      ]
    },
    {
      "cell_type": "code",
      "source": [
        "#Find median values in all rows\n",
        "np.median(mat, axis = 1)"
      ],
      "metadata": {
        "colab": {
          "base_uri": "https://localhost:8080/"
        },
        "id": "N7jXZh_L0D3i",
        "outputId": "d2731ee6-3cfa-4250-a063-586e16e4f0d1"
      },
      "execution_count": null,
      "outputs": [
        {
          "output_type": "execute_result",
          "data": {
            "text/plain": [
              "array([ 3.,  8., 13., 18., 23.])"
            ]
          },
          "metadata": {},
          "execution_count": 35
        }
      ]
    },
    {
      "cell_type": "code",
      "source": [
        "#Find average values in all rows\n",
        "np.mean(mat, axis = 1)"
      ],
      "metadata": {
        "colab": {
          "base_uri": "https://localhost:8080/"
        },
        "id": "1PU6XKVm0Gxg",
        "outputId": "63c60345-417c-40be-c43e-486faefc7069"
      },
      "execution_count": null,
      "outputs": [
        {
          "output_type": "execute_result",
          "data": {
            "text/plain": [
              "array([ 3.,  8., 13., 18., 23.])"
            ]
          },
          "metadata": {},
          "execution_count": 36
        }
      ]
    },
    {
      "cell_type": "code",
      "source": [
        "#Task 2 - Implement a Gaussian elimination algorithm with a function taking two arguments: A - the matrix, b - right hand side vector\n",
        "mat = np.arange(1,26).reshape(5,5)\n",
        "mat[1,1] = 100\n",
        "mat"
      ],
      "metadata": {
        "id": "7TxqYzeiTPtJ",
        "colab": {
          "base_uri": "https://localhost:8080/"
        },
        "outputId": "0f3f5df0-da92-48a7-9c6d-12cf309d6298"
      },
      "execution_count": null,
      "outputs": [
        {
          "output_type": "execute_result",
          "data": {
            "text/plain": [
              "array([[  1,   2,   3,   4,   5],\n",
              "       [  6, 100,   8,   9,  10],\n",
              "       [ 11,  12,  13,  14,  15],\n",
              "       [ 16,  17,  18,  19,  20],\n",
              "       [ 21,  22,  23,  24,  25]])"
            ]
          },
          "metadata": {},
          "execution_count": 37
        }
      ]
    },
    {
      "cell_type": "code",
      "source": [
        "def gaussian(A):\n",
        "  n = A.shape[0]\n",
        "  for c in range(n-1):\n",
        "    for r in range(c+1, n):\n",
        "      fact = A[r,c]/A[c,c]\n",
        "      A[r,:] = A[r,:] - fact*A[c,:]\n",
        "\n",
        "mat2 = mat.copy()\n",
        "gaussian(mat2)\n",
        "mat2"
      ],
      "metadata": {
        "colab": {
          "base_uri": "https://localhost:8080/"
        },
        "id": "5tK_4pidThT6",
        "outputId": "5dad533d-eda9-4330-8468-c72d1aa49b36"
      },
      "execution_count": null,
      "outputs": [
        {
          "output_type": "execute_result",
          "data": {
            "text/plain": [
              "array([[  1,   2,   3,   4,   5],\n",
              "       [  0,  88, -10, -15, -20],\n",
              "       [  0,   0, -21, -31, -42],\n",
              "       [  0,   0,   0,  -1,  -1],\n",
              "       [  0,   0,   0,   0,   1]])"
            ]
          },
          "metadata": {},
          "execution_count": 38
        }
      ]
    },
    {
      "cell_type": "code",
      "source": [
        "A = mat.copy()\n",
        "b = np.arange(0,5)\n",
        "b"
      ],
      "metadata": {
        "colab": {
          "base_uri": "https://localhost:8080/"
        },
        "id": "PnizNhMNVKAE",
        "outputId": "4cef35e6-9348-4381-b488-82d9d8c0cc33"
      },
      "execution_count": null,
      "outputs": [
        {
          "output_type": "execute_result",
          "data": {
            "text/plain": [
              "array([0, 1, 2, 3, 4])"
            ]
          },
          "metadata": {},
          "execution_count": 39
        }
      ]
    },
    {
      "cell_type": "code",
      "source": [
        "b[:, None]"
      ],
      "metadata": {
        "colab": {
          "base_uri": "https://localhost:8080/"
        },
        "id": "xC3dr-Yp-Hwm",
        "outputId": "5f2d45e0-d1b9-4391-e468-6335dc7bfcf6"
      },
      "execution_count": null,
      "outputs": [
        {
          "output_type": "execute_result",
          "data": {
            "text/plain": [
              "array([[0],\n",
              "       [1],\n",
              "       [2],\n",
              "       [3],\n",
              "       [4]])"
            ]
          },
          "metadata": {},
          "execution_count": 40
        }
      ]
    },
    {
      "cell_type": "code",
      "source": [
        "Aaug = np.concatenate((A, b[:,None]), axis=1)"
      ],
      "metadata": {
        "id": "UU1BfZzTVf8e"
      },
      "execution_count": null,
      "outputs": []
    },
    {
      "cell_type": "code",
      "source": [
        "gaussian(Aaug)\n",
        "Aaug"
      ],
      "metadata": {
        "id": "FYq1N6-bV065",
        "colab": {
          "base_uri": "https://localhost:8080/"
        },
        "outputId": "73715151-3e17-4427-ac15-2b9038da3fc3"
      },
      "execution_count": null,
      "outputs": [
        {
          "output_type": "execute_result",
          "data": {
            "text/plain": [
              "array([[  1,   2,   3,   4,   5,   0],\n",
              "       [  0,  88, -10, -15, -20,   1],\n",
              "       [  0,   0, -21, -31, -42,   2],\n",
              "       [  0,   0,   0,  -1,  -1,   0],\n",
              "       [  0,   0,   0,   0,   1,   0]])"
            ]
          },
          "metadata": {},
          "execution_count": 44
        }
      ]
    },
    {
      "cell_type": "code",
      "source": [
        "list(range(4, -1, -1))"
      ],
      "metadata": {
        "colab": {
          "base_uri": "https://localhost:8080/"
        },
        "id": "qYtJ84dA-uWk",
        "outputId": "4fda684c-27ea-4b2b-8009-76637e63368a"
      },
      "execution_count": null,
      "outputs": [
        {
          "output_type": "execute_result",
          "data": {
            "text/plain": [
              "[4, 3, 2, 1, 0]"
            ]
          },
          "metadata": {},
          "execution_count": 45
        }
      ]
    },
    {
      "cell_type": "code",
      "source": [
        "#Task 3 - Implement a backward substitution and find a solution\n",
        "# x_i = (b_i - sum{j=i+1}^{n} A[i,j]*x_j) / A[i,i] for i=n, n-1, ..., 1\n",
        "\n",
        "def back(A,b):\n",
        "  n = A.shape[0]\n",
        "  x = np.zeros(n)\n",
        "\n",
        "  for i in range(n-1, -1, -1):\n",
        "    s = A[i,i+1:] @ x[i+1:]\n",
        "    x[i] = (b[i]-s) / A[i,i]\n",
        "\n",
        "  return x"
      ],
      "metadata": {
        "id": "CP4-DSVCWuun"
      },
      "execution_count": null,
      "outputs": []
    },
    {
      "cell_type": "code",
      "source": [
        "A = np.arange(1, 17, dtype=np.float64).reshape(4,4)\n",
        "A[1,2] = 88\n",
        "A[1,3] = -3\n",
        "A[2,3] = -3\n",
        "print(f'A = {A}')\n",
        "\n",
        "x = np.ones(A.shape[0])\n",
        "print(f'Original x = {x}')\n",
        "b = A  @ x.T\n",
        "print(f'Right hand side for testing: b = {b}')\n",
        "\n",
        "Aaug = np.concatenate((A,b[:,None]), axis=1)\n",
        "gaussian(Aaug)\n",
        "Ae = Aaug\n",
        "\n",
        "print(f'Check if A was unchanged ')\n",
        "print(f'Eliminated augmented matrix:\\n {Ae}')\n",
        "print(f'Eliminated augmented matrix A part: {Ae[:,:-1]}')\n",
        "print(f'Eliminated augmented matrix b part: {Ae[:,Ae.shape[1]-1]}')\n",
        "\n",
        "# Find solution\n",
        "x = back(Ae[:,:-1], Ae[:,-1])\n",
        "print(f'Solution: {x}')"
      ],
      "metadata": {
        "id": "K1ljNpcAV6ET",
        "colab": {
          "base_uri": "https://localhost:8080/"
        },
        "outputId": "f671b538-3dfc-4cdd-d53e-896176935d1c"
      },
      "execution_count": null,
      "outputs": [
        {
          "output_type": "stream",
          "name": "stdout",
          "text": [
            "A = [[ 1.  2.  3.  4.]\n",
            " [ 5.  6. 88. -3.]\n",
            " [ 9. 10. 11. -3.]\n",
            " [13. 14. 15. 16.]]\n",
            "Original x = [1. 1. 1. 1.]\n",
            "Right hand side for testing: b = [10. 96. 27. 58.]\n",
            "Check if A was unchanged \n",
            "Eliminated augmented matrix:\n",
            " [[   1.     2.     3.     4.    10. ]\n",
            " [   0.    -4.    73.   -23.    46. ]\n",
            " [   0.     0.  -162.     7.  -155. ]\n",
            " [   0.     0.     0.    22.5   22.5]]\n",
            "Eliminated augmented matrix A part: [[   1.     2.     3.     4. ]\n",
            " [   0.    -4.    73.   -23. ]\n",
            " [   0.     0.  -162.     7. ]\n",
            " [   0.     0.     0.    22.5]]\n",
            "Eliminated augmented matrix b part: [  10.    46.  -155.    22.5]\n",
            "Solution: [1. 1. 1. 1.]\n"
          ]
        }
      ]
    },
    {
      "cell_type": "code",
      "source": [
        "#Task 4 - linear regeression problem\n",
        "#f(x) = a_0 + a_1 sin(x) + a_2 cos(x) + a_3 exp(-x)\n",
        "\n",
        "def f(x):\n",
        "  a_0 = 1\n",
        "  a_1 = 2\n",
        "  a_2 = 3\n",
        "  a_3 = 4\n",
        "  return a_0 + a_1 * np.sin(x) + a_2 * np.cos(x) + a_3 * np.exp(-x)"
      ],
      "metadata": {
        "id": "PjTrtYr9Yc_6"
      },
      "execution_count": null,
      "outputs": []
    },
    {
      "cell_type": "code",
      "source": [
        "import matplotlib.pyplot as plt\n"
      ],
      "metadata": {
        "id": "9vOpeuzgY8XE"
      },
      "execution_count": null,
      "outputs": []
    },
    {
      "cell_type": "code",
      "source": [
        "X = np.arange(0,5, 0.1)\n",
        "Y = f(X)\n",
        "plt.plot(X, Y, 'o-')"
      ],
      "metadata": {
        "colab": {
          "base_uri": "https://localhost:8080/",
          "height": 448
        },
        "id": "Kq3C9ah3CGrS",
        "outputId": "bce36062-1d7b-4566-f0cb-4ddc55fab067"
      },
      "execution_count": null,
      "outputs": [
        {
          "output_type": "execute_result",
          "data": {
            "text/plain": [
              "[<matplotlib.lines.Line2D at 0x7e133e71e470>]"
            ]
          },
          "metadata": {},
          "execution_count": 7
        },
        {
          "output_type": "display_data",
          "data": {
            "text/plain": [
              "<Figure size 640x480 with 1 Axes>"
            ],
            "image/png": "[encoded data removed]"
          },
          "metadata": {}
        }
      ]
    },
    {
      "cell_type": "code",
      "source": [
        "X"
      ],
      "metadata": {
        "colab": {
          "base_uri": "https://localhost:8080/"
        },
        "id": "QmhlvwHOCktt",
        "outputId": "d133a85d-ed49-4645-a133-d3986bf68963"
      },
      "execution_count": null,
      "outputs": [
        {
          "output_type": "execute_result",
          "data": {
            "text/plain": [
              "array([0. , 0.1, 0.2, 0.3, 0.4, 0.5, 0.6, 0.7, 0.8, 0.9, 1. , 1.1, 1.2,\n",
              "       1.3, 1.4, 1.5, 1.6, 1.7, 1.8, 1.9, 2. , 2.1, 2.2, 2.3, 2.4, 2.5,\n",
              "       2.6, 2.7, 2.8, 2.9, 3. , 3.1, 3.2, 3.3, 3.4, 3.5, 3.6, 3.7, 3.8,\n",
              "       3.9, 4. , 4.1, 4.2, 4.3, 4.4, 4.5, 4.6, 4.7, 4.8, 4.9])"
            ]
          },
          "metadata": {},
          "execution_count": 8
        }
      ]
    },
    {
      "cell_type": "code",
      "source": [
        "Y"
      ],
      "metadata": {
        "colab": {
          "base_uri": "https://localhost:8080/"
        },
        "id": "RmEvTwoXCqsB",
        "outputId": "e2202168-dad1-4bbf-9ae1-1034a681ed7a"
      },
      "execution_count": null,
      "outputs": [
        {
          "output_type": "execute_result",
          "data": {
            "text/plain": [
              "array([ 8.        ,  7.804029  ,  7.61246141,  7.42032276,  7.22329985,\n",
              "        7.0177214 ,  6.80053834,  6.56930315,  6.32214817,  6.05776236,\n",
              "        5.77536665,  5.47468742,  5.15592828,  4.81974003,  4.46718874,\n",
              "        4.09972222,  3.71913471,  3.32753023,  2.92728453,  2.52100595,\n",
              "        2.11149548,  1.70170613,  1.29470209,  0.89361774,  0.50161703,\n",
              "        0.12185344, -0.2425692 , -0.58863461, -0.91345047, -1.21428296,\n",
              "       -1.4885892 , -1.73404732, -1.9485838 , -2.13039803, -2.2779837 ,\n",
              "       -2.39014698, -2.46602125, -2.50507827, -2.50713583, -2.47236159,\n",
              "       -2.4012733 , -2.29473536, -2.1539517 , -1.98045515, -1.7760934 ,\n",
              "       -1.54301165, -1.28363225, -1.0006314 , -0.69691328, -0.37558178])"
            ]
          },
          "metadata": {},
          "execution_count": 9
        }
      ]
    },
    {
      "cell_type": "code",
      "source": [
        "A = np.array((np.ones(X.shape), np.sin(X), np.cos(X), np.exp(-X))).T"
      ],
      "metadata": {
        "id": "rGvzLbcTC2wo"
      },
      "execution_count": null,
      "outputs": []
    },
    {
      "cell_type": "code",
      "source": [
        "A.shape"
      ],
      "metadata": {
        "colab": {
          "base_uri": "https://localhost:8080/"
        },
        "id": "WRoRbkaFDMyy",
        "outputId": "eea23ecc-8f07-4d83-a7aa-f6f87b18a137"
      },
      "execution_count": null,
      "outputs": [
        {
          "output_type": "execute_result",
          "data": {
            "text/plain": [
              "(50, 4)"
            ]
          },
          "metadata": {},
          "execution_count": 11
        }
      ]
    },
    {
      "cell_type": "code",
      "source": [
        "Aaug = A.T @ A\n",
        "Aaug"
      ],
      "metadata": {
        "colab": {
          "base_uri": "https://localhost:8080/"
        },
        "id": "LyduEG17DPqs",
        "outputId": "58963e2a-e12e-49be-e870-c0d9f7541c62"
      },
      "execution_count": null,
      "outputs": [
        {
          "output_type": "execute_result",
          "data": {
            "text/plain": [
              "array([[50.        ,  7.63686981, -9.22308147, 10.43752736],\n",
              "       [ 7.63686981, 25.89574836,  4.71834828,  5.01771922],\n",
              "       [-9.22308147,  4.71834828, 24.10425164,  5.46555594],\n",
              "       [10.43752736,  5.01771922,  5.46555594,  5.51640511]])"
            ]
          },
          "metadata": {},
          "execution_count": 12
        }
      ]
    },
    {
      "cell_type": "code",
      "source": [
        "b = A.T @ Y\n",
        "b"
      ],
      "metadata": {
        "colab": {
          "base_uri": "https://localhost:8080/"
        },
        "id": "kVeK_0ZxDZOp",
        "outputId": "8280beca-d5be-4698-cabd-cdb018059eb8"
      },
      "execution_count": null,
      "outputs": [
        {
          "output_type": "execute_result",
          "data": {
            "text/plain": [
              "array([79.35460464, 93.65428824, 94.38859378, 58.93525407])"
            ]
          },
          "metadata": {},
          "execution_count": 13
        }
      ]
    },
    {
      "cell_type": "code",
      "source": [
        "Aaug = np.concatenate((Aaug, b[:,None]), axis=1)\n",
        "Aaug"
      ],
      "metadata": {
        "colab": {
          "base_uri": "https://localhost:8080/"
        },
        "id": "tIZa0nCJDgLy",
        "outputId": "3ccc60a9-1138-45d9-e1d1-395a53c9d755"
      },
      "execution_count": null,
      "outputs": [
        {
          "output_type": "execute_result",
          "data": {
            "text/plain": [
              "array([[50.        ,  7.63686981, -9.22308147, 10.43752736, 79.35460464],\n",
              "       [ 7.63686981, 25.89574836,  4.71834828,  5.01771922, 93.65428824],\n",
              "       [-9.22308147,  4.71834828, 24.10425164,  5.46555594, 94.38859378],\n",
              "       [10.43752736,  5.01771922,  5.46555594,  5.51640511, 58.93525407]])"
            ]
          },
          "metadata": {},
          "execution_count": 14
        }
      ]
    },
    {
      "cell_type": "code",
      "source": [
        "gaussian(Aaug)\n",
        "a = back(Aaug[:, :-1], Aaug[:, -1])"
      ],
      "metadata": {
        "id": "5acvJeCsD81r"
      },
      "execution_count": null,
      "outputs": []
    },
    {
      "cell_type": "code",
      "source": [
        "a"
      ],
      "metadata": {
        "id": "qn_Rn02VEK9i"
      },
      "execution_count": null,
      "outputs": []
    },
    {
      "cell_type": "code",
      "source": [
        "np.linalg.slove(Aaug[:,:-1], Aaug[:,-1])"
      ],
      "metadata": {
        "id": "XJ313eR7EMNX"
      },
      "execution_count": null,
      "outputs": []
    }
  ]
}