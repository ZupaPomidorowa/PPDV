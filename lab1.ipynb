{
  "nbformat": 4,
  "nbformat_minor": 0,
  "metadata": {
    "colab": {
      "provenance": []
    },
    "kernelspec": {
      "name": "python3",
      "display_name": "Python 3"
    },
    "language_info": {
      "name": "python"
    }
  },
  "cells": [
    {
      "cell_type": "markdown",
      "source": [
        "1. What is 7 to the power of 4?"
      ],
      "metadata": {
        "id": "4wdOvQU_p42u"
      }
    },
    {
      "cell_type": "code",
      "source": [
        "7**4"
      ],
      "metadata": {
        "colab": {
          "base_uri": "https://localhost:8080/"
        },
        "id": "w4CK0qD0pdSc",
        "outputId": "2ddcff05-cd36-421d-e9ad-7e86448e5827"
      },
      "execution_count": null,
      "outputs": [
        {
          "output_type": "execute_result",
          "data": {
            "text/plain": [
              "2401"
            ]
          },
          "metadata": {},
          "execution_count": 3
        }
      ]
    },
    {
      "cell_type": "markdown",
      "source": [
        "2. Split this string:\n",
        "s = \"Hi there Sam!\"\n",
        "into a list and replace Sam with dad."
      ],
      "metadata": {
        "id": "TOcbO2ntqK1I"
      }
    },
    {
      "cell_type": "code",
      "source": [
        "s = \"Hi there Sam!\"\n",
        "s.replace('Sam', 'dad')\n",
        "lst = s.split()\n",
        "# lst[2] = 'dad!'\n",
        "lst"
      ],
      "metadata": {
        "colab": {
          "base_uri": "https://localhost:8080/"
        },
        "id": "KtE8Wfp7qTmG",
        "outputId": "5bec9af3-6c2e-4371-9065-f2af9fb5849d"
      },
      "execution_count": null,
      "outputs": [
        {
          "output_type": "execute_result",
          "data": {
            "text/plain": [
              "['Hi', 'there', 'Sam!']"
            ]
          },
          "metadata": {},
          "execution_count": 5
        }
      ]
    },
    {
      "cell_type": "code",
      "source": [
        "s = \"Hi there Sam!\"\n",
        "#g = map (lambda x: x.replace('Sam', 'dad'), s.split())\n",
        "#print(next(g))\n",
        "list(map(lambda x: x.replace('Sam', 'dad'), s.split()))"
      ],
      "metadata": {
        "colab": {
          "base_uri": "https://localhost:8080/"
        },
        "id": "WiaYvjAsrTfx",
        "outputId": "c2d6ecc0-0621-46e2-8cd8-949ef5b3706d"
      },
      "execution_count": null,
      "outputs": [
        {
          "output_type": "execute_result",
          "data": {
            "text/plain": [
              "['Hi', 'there', 'dad!']"
            ]
          },
          "metadata": {},
          "execution_count": 9
        }
      ]
    },
    {
      "cell_type": "markdown",
      "source": [
        "3. Given the variables:\n",
        "planet = \"Earth\"\n",
        "diameter = 12742\n",
        "Use .format() to print the following string:\n",
        "The diameter of Earth is 12742 kilometers."
      ],
      "metadata": {
        "id": "VPm0ZLbxsEsa"
      }
    },
    {
      "cell_type": "code",
      "source": [
        "planet = \"Earth\"\n",
        "diameter = 12742\n",
        "\n",
        "\"The diameter of {p} is {d} kilometers\".format(d=diameter, p=planet)"
      ],
      "metadata": {
        "colab": {
          "base_uri": "https://localhost:8080/",
          "height": 35
        },
        "id": "WVCDL1IcsRtP",
        "outputId": "852faeaa-183d-4dc1-bd36-79462b033a1a"
      },
      "execution_count": null,
      "outputs": [
        {
          "output_type": "execute_result",
          "data": {
            "text/plain": [
              "'The diameter of Earth is 12742 kilometers'"
            ],
            "application/vnd.google.colaboratory.intrinsic+json": {
              "type": "string"
            }
          },
          "metadata": {},
          "execution_count": 10
        }
      ]
    },
    {
      "cell_type": "markdown",
      "source": [
        "4. Given this nested list, use indexing to grab the word \"hello\"\n",
        "lst = [1,2,[3,4],[5,[100,200,['hello']],23,11],1,7]"
      ],
      "metadata": {
        "id": "KDnvQeojsy14"
      }
    },
    {
      "cell_type": "code",
      "source": [
        "lst = [1,2,[3,4],[5,[100,200,['hello']],23,11],1,7]\n",
        "lst[3][1][2][0]"
      ],
      "metadata": {
        "colab": {
          "base_uri": "https://localhost:8080/",
          "height": 35
        },
        "id": "aJUWmsqxs6Q2",
        "outputId": "6ed15f7d-585a-4347-966d-417c5c93dd5e"
      },
      "execution_count": null,
      "outputs": [
        {
          "output_type": "execute_result",
          "data": {
            "text/plain": [
              "'hello'"
            ],
            "application/vnd.google.colaboratory.intrinsic+json": {
              "type": "string"
            }
          },
          "metadata": {},
          "execution_count": 14
        }
      ]
    },
    {
      "cell_type": "markdown",
      "source": [
        "5. Given this nested dictionary grab the word \"hello\". Be prepared, this will be annoying/tricky\n",
        "d = {'k1':[1,2,3,{'tricky':['oh','man','inception',{'target':[1,2,3,'hello']}]}]}"
      ],
      "metadata": {
        "id": "z5dG1ajFtYst"
      }
    },
    {
      "cell_type": "code",
      "source": [
        "d = {'k1':[1,2,3,{'tricky':['oh','man','inception',{'target':[1,2,3,'hello']}]}]}\n",
        "d['k1'][3]['tricky'][3]['target'][3]"
      ],
      "metadata": {
        "colab": {
          "base_uri": "https://localhost:8080/",
          "height": 35
        },
        "id": "3seMHWGntX6_",
        "outputId": "d9ff5aaa-f634-46c8-d5c4-b7eed5a22794"
      },
      "execution_count": null,
      "outputs": [
        {
          "output_type": "execute_result",
          "data": {
            "text/plain": [
              "'hello'"
            ],
            "application/vnd.google.colaboratory.intrinsic+json": {
              "type": "string"
            }
          },
          "metadata": {},
          "execution_count": 19
        }
      ]
    },
    {
      "cell_type": "markdown",
      "source": [
        "6. What is the main difference between a tuple and a list? Intentionally generate an error by changing a tuple value."
      ],
      "metadata": {
        "id": "DOMNF0GQuswQ"
      }
    },
    {
      "cell_type": "code",
      "source": [
        "# Tuple is immutable and lists are mutable\n",
        "#lst = (1, 2, 'three', 'etc')\n",
        "lst = (1, {'a': 'b'}, 'three', 'etc')\n",
        "lst.append(4)\n",
        "lst[1] = 9\n",
        "#lst[1]['a'] = 'c'\n",
        "lst"
      ],
      "metadata": {
        "colab": {
          "base_uri": "https://localhost:8080/",
          "height": 249
        },
        "id": "Qg9i5F7TuaEM",
        "outputId": "258c2532-13dc-4b24-bed2-82df242d974f"
      },
      "execution_count": null,
      "outputs": [
        {
          "output_type": "error",
          "ename": "AttributeError",
          "evalue": "ignored",
          "traceback": [
            "\u001b[0;31m---------------------------------------------------------------------------\u001b[0m",
            "\u001b[0;31mAttributeError\u001b[0m                            Traceback (most recent call last)",
            "\u001b[0;32m<ipython-input-20-1c88d3122b55>\u001b[0m in \u001b[0;36m<cell line: 4>\u001b[0;34m()\u001b[0m\n\u001b[1;32m      2\u001b[0m \u001b[0;31m#lst = (1, 2, 'three', 'etc')\u001b[0m\u001b[0;34m\u001b[0m\u001b[0;34m\u001b[0m\u001b[0m\n\u001b[1;32m      3\u001b[0m \u001b[0mlst\u001b[0m \u001b[0;34m=\u001b[0m \u001b[0;34m(\u001b[0m\u001b[0;36m1\u001b[0m\u001b[0;34m,\u001b[0m \u001b[0;34m{\u001b[0m\u001b[0;34m'a'\u001b[0m\u001b[0;34m:\u001b[0m \u001b[0;34m'b'\u001b[0m\u001b[0;34m}\u001b[0m\u001b[0;34m,\u001b[0m \u001b[0;34m'three'\u001b[0m\u001b[0;34m,\u001b[0m \u001b[0;34m'etc'\u001b[0m\u001b[0;34m)\u001b[0m\u001b[0;34m\u001b[0m\u001b[0;34m\u001b[0m\u001b[0m\n\u001b[0;32m----> 4\u001b[0;31m \u001b[0mlst\u001b[0m\u001b[0;34m.\u001b[0m\u001b[0mappend\u001b[0m\u001b[0;34m(\u001b[0m\u001b[0;36m4\u001b[0m\u001b[0;34m)\u001b[0m\u001b[0;34m\u001b[0m\u001b[0;34m\u001b[0m\u001b[0m\n\u001b[0m\u001b[1;32m      5\u001b[0m \u001b[0mlst\u001b[0m\u001b[0;34m[\u001b[0m\u001b[0;36m1\u001b[0m\u001b[0;34m]\u001b[0m \u001b[0;34m=\u001b[0m \u001b[0;36m9\u001b[0m\u001b[0;34m\u001b[0m\u001b[0;34m\u001b[0m\u001b[0m\n\u001b[1;32m      6\u001b[0m \u001b[0;31m#lst[1]['a'] = 'c'\u001b[0m\u001b[0;34m\u001b[0m\u001b[0;34m\u001b[0m\u001b[0m\n",
            "\u001b[0;31mAttributeError\u001b[0m: 'tuple' object has no attribute 'append'"
          ]
        }
      ]
    },
    {
      "cell_type": "markdown",
      "source": [
        "7. Create a function that grabs the email website domain from a string in the form:\n",
        "super_user@ee.pw.edu.pl\n",
        "So for example, passing \"super_user@ee.pw.edu.pl\" would return: ee.pw.edu.pl"
      ],
      "metadata": {
        "id": "B7DQhYfV0gG9"
      }
    },
    {
      "cell_type": "code",
      "source": [
        "def grab_domain(s):\n",
        "  return s.split('@')[1]"
      ],
      "metadata": {
        "id": "toaRvI6s0xu4"
      },
      "execution_count": null,
      "outputs": []
    },
    {
      "cell_type": "code",
      "source": [
        "s = 'super_user@ee.pw.edu.pl'\n",
        "grab_domain(s)"
      ],
      "metadata": {
        "colab": {
          "base_uri": "https://localhost:8080/",
          "height": 35
        },
        "id": "6sd0qC6e0neD",
        "outputId": "3825a865-b844-494e-d706-72633b2d587b"
      },
      "execution_count": null,
      "outputs": [
        {
          "output_type": "execute_result",
          "data": {
            "text/plain": [
              "'ee.pw.edu.pl'"
            ],
            "application/vnd.google.colaboratory.intrinsic+json": {
              "type": "string"
            }
          },
          "metadata": {},
          "execution_count": 23
        }
      ]
    },
    {
      "cell_type": "markdown",
      "source": [
        "8. Create a basic function that returns True if the word 'car' is contained in the input string. Don't worry about edge cases like a punctuation being attached to the word car, but do account for capitalization."
      ],
      "metadata": {
        "id": "zL7JomZ_1VMi"
      }
    },
    {
      "cell_type": "code",
      "source": [
        "def iscar(s):\n",
        "  return 'car' in s.lower()\n",
        "\n",
        "print(iscar('aaaaaaa'))\n",
        "print(iscar('aaaaaacar'))"
      ],
      "metadata": {
        "colab": {
          "base_uri": "https://localhost:8080/"
        },
        "id": "PZfUaGgi1GPq",
        "outputId": "6715e9da-2280-42ed-aa8b-ffee63f09ba2"
      },
      "execution_count": null,
      "outputs": [
        {
          "output_type": "stream",
          "name": "stdout",
          "text": [
            "False\n",
            "True\n"
          ]
        }
      ]
    },
    {
      "cell_type": "markdown",
      "source": [
        "9. Create a function that counts the number of times the word \"car\" occurs in a string. Again ignore edge cases."
      ],
      "metadata": {
        "id": "pOG58PL61z4Q"
      }
    },
    {
      "cell_type": "code",
      "source": [
        "from collections import Counter"
      ],
      "metadata": {
        "id": "L_JNdr1o2RmJ"
      },
      "execution_count": null,
      "outputs": []
    },
    {
      "cell_type": "code",
      "source": [
        "def countCar(s):\n",
        "  #return Counter(s.lower().split())['car']\n",
        "  #return sum(map(lambda x: x == 'car', s.lower().split()))\n",
        "  return len(list(filter(lambda x: x == 'car', s.lower().split())))\n",
        "\n",
        "countCar('This car runs faster than the other car dude!')"
      ],
      "metadata": {
        "colab": {
          "base_uri": "https://localhost:8080/"
        },
        "id": "WYbF3m2h15W3",
        "outputId": "4775d416-700a-4938-f056-b3d4308f4847"
      },
      "execution_count": null,
      "outputs": [
        {
          "output_type": "execute_result",
          "data": {
            "text/plain": [
              "2"
            ]
          },
          "metadata": {},
          "execution_count": 30
        }
      ]
    },
    {
      "cell_type": "markdown",
      "source": [
        "10. Use lambda expressions and the filter() function to filter out words from a list that don't start with the letter 's'"
      ],
      "metadata": {
        "id": "ICOkmEu13fL5"
      }
    },
    {
      "cell_type": "code",
      "source": [
        "seq = ['soup','dog','salad','cat','great']\n",
        "list(filter(lambda x: 's' in x, seq))"
      ],
      "metadata": {
        "colab": {
          "base_uri": "https://localhost:8080/"
        },
        "id": "jW2gVTSS3qJu",
        "outputId": "b7a41be1-1201-4cd8-d2d3-987a9fe0fed0"
      },
      "execution_count": null,
      "outputs": [
        {
          "output_type": "execute_result",
          "data": {
            "text/plain": [
              "['soup', 'salad']"
            ]
          },
          "metadata": {},
          "execution_count": 31
        }
      ]
    },
    {
      "cell_type": "markdown",
      "source": [
        "11. IfElse Problem\n",
        "You are driving a little too fast, and a police officer stops you. Write a function to return one of 3 possible results: \"No ticket\", \"Small ticket\", or \"Big Ticket\". If your speed is 60 or less, the result is \"No Ticket\". If speed is between 61 and 80 inclusive, the result is \"Small Ticket\". If speed is 81 or more, the result is \"Big Ticket\". Unless it is your birthday (encoded as a boolean value in the parameters of the function) -- on your birthday, your speed can be 5 higher in all cases.\n",
        "\n",
        "```\n",
        "def caught_speeding(speed, is_birthday):\n",
        "pass\n",
        "\n",
        "caught_speeding(81,True)\n",
        "'Small Ticket'\n",
        "\n",
        "caught_speeding(81,False)\n",
        "'Big Ticket'\n",
        "```"
      ],
      "metadata": {
        "id": "RA_mM8wd38pc"
      }
    },
    {
      "cell_type": "code",
      "source": [
        "def caught_speeding(speed, is_birthday):\n",
        "  c = 5 if is_birthday else 0\n",
        "\n",
        "  if speed <= 60+c:\n",
        "    return 'No ticket'\n",
        "  elif speed <= 80+c:\n",
        "    return 'Small ticket'\n",
        "  else:\n",
        "    return 'Big ticket'\n",
        "\n",
        "print(caught_speeding(81,True))\n",
        "print(caught_speeding(81,False))"
      ],
      "metadata": {
        "colab": {
          "base_uri": "https://localhost:8080/"
        },
        "id": "uvMlFjv84Iep",
        "outputId": "09be7962-8426-4faf-c3c1-649f41347be2"
      },
      "execution_count": null,
      "outputs": [
        {
          "output_type": "stream",
          "name": "stdout",
          "text": [
            "Small ticket\n",
            "Big ticket\n"
          ]
        }
      ]
    },
    {
      "cell_type": "markdown",
      "source": [
        "12. Write a function (without using regular expressions) which will count number of occurrences of a specific substring in a string"
      ],
      "metadata": {
        "id": "dhW-pXjG5wLS"
      }
    },
    {
      "cell_type": "code",
      "source": [
        "def find(s,p):\n",
        "    s = s.lower()\n",
        "    p = p.lower()\n",
        "    n = len(p)\n",
        "\n",
        "    hash_p = sum(map(lambda x: ord(x), list(p)))\n",
        "    hash_s = sum(map(lambda x: ord(x), list(s[:n])))\n",
        "\n",
        "    for i in range(len(s)-n+1):\n",
        "        if hash_p == hash_s and s[i:i+n] == p:\n",
        "            return i\n",
        "        if i+n < len(s):\n",
        "            hash_s = hash_s - ord(s[i]) + ord(s[i+n])\n",
        "\n",
        "    return -1;\n",
        "\n",
        "\n",
        "print(find(\"ala Ma kota\", \"kota\"))\n",
        "print(find(\"ala Ma kota\", \"ma\"))\n",
        "print(find(\"ala Ma kota\", \" k\"))\n",
        "print(find(\"ala Ma kota\", \"ss\"))"
      ],
      "metadata": {
        "colab": {
          "base_uri": "https://localhost:8080/"
        },
        "id": "j6_irBL96J7C",
        "outputId": "cd2e68a3-8bf7-4567-b5fd-38cb738623ba"
      },
      "execution_count": null,
      "outputs": [
        {
          "output_type": "stream",
          "name": "stdout",
          "text": [
            "7\n",
            "4\n",
            "6\n",
            "-1\n"
          ]
        }
      ]
    },
    {
      "cell_type": "markdown",
      "source": [
        "13.\n",
        "\n",
        "    With a given integral number n, write a function to generate a dictionary that contains pairs of (i, i*i) such that i is an integral number between 1 and n (both included!), and then the function should return the dictionary or print it to the output. Suppose the following input is supplied to the function:\n",
        "```\n",
        "gen_dict(8)\n",
        "```\n",
        "\n",
        "Then, the returned output should be:\n",
        "{1: 1, 2: 4, 3: 9, 4: 16, 5: 25, 6: 36, 7: 49, 8: 64}\n",
        "\n",
        "when the function is called as:\n",
        "```\n",
        "gen_dict(8, True)\n",
        "```\n",
        "Then, similarly the returned output should be, but it should also be printed to the output:\n",
        "{1: 1, 2: 4, 3: 9, 4: 16, 5: 25, 6: 36, 7: 49, 8: 64}"
      ],
      "metadata": {
        "id": "CxaH8wWe6KL0"
      }
    },
    {
      "cell_type": "code",
      "source": [
        "def gen_dict(n, printout=False):\n",
        "  d = {}\n",
        "  for i in range(1,n+1):\n",
        "    d[i] = i*i\n",
        "\n",
        "  if printout:\n",
        "    print(d)\n",
        "\n",
        "  return d\n",
        "\n",
        "jj = gen_dict(8, True)"
      ],
      "metadata": {
        "colab": {
          "base_uri": "https://localhost:8080/"
        },
        "id": "2SAPa69x8ntp",
        "outputId": "94bf2d44-50d6-40d9-d443-fe3771b0b646"
      },
      "execution_count": null,
      "outputs": [
        {
          "output_type": "stream",
          "name": "stdout",
          "text": [
            "{1: 1, 2: 4, 3: 9, 4: 16, 5: 25, 6: 36, 7: 49, 8: 64}\n"
          ]
        }
      ]
    },
    {
      "cell_type": "code",
      "source": [
        "jj"
      ],
      "metadata": {
        "colab": {
          "base_uri": "https://localhost:8080/"
        },
        "id": "JGvxFVEy84ts",
        "outputId": "2446f99a-34ed-421b-987f-3605caf3a6bc"
      },
      "execution_count": null,
      "outputs": [
        {
          "output_type": "execute_result",
          "data": {
            "text/plain": [
              "{1: 1, 2: 4, 3: 9, 4: 16, 5: 25, 6: 36, 7: 49, 8: 64}"
            ]
          },
          "metadata": {},
          "execution_count": 49
        }
      ]
    },
    {
      "cell_type": "markdown",
      "source": [
        "14. Write a Python script which will generate to the output even numbers within the range passed as script arguments (you can use from sys import args structure to acces arguments. Try to execute and run this script in Google Colab ( !python ./script_name.py)"
      ],
      "metadata": {
        "id": "xuYiHzma9n-I"
      }
    },
    {
      "cell_type": "code",
      "source": [
        "!chmod 777 myscript.py"
      ],
      "metadata": {
        "id": "7V1Rc0fI-ckT"
      },
      "execution_count": null,
      "outputs": []
    },
    {
      "cell_type": "code",
      "source": [
        "!ls -al"
      ],
      "metadata": {
        "colab": {
          "base_uri": "https://localhost:8080/"
        },
        "id": "HXD7Z-gR9pcn",
        "outputId": "4b54c456-2168-4d20-c01b-a6b94f5183d9"
      },
      "execution_count": null,
      "outputs": [
        {
          "output_type": "stream",
          "name": "stdout",
          "text": [
            "total 20\n",
            "drwxr-xr-x 1 root root 4096 Oct  8 15:46 .\n",
            "drwxr-xr-x 1 root root 4096 Oct  8 14:14 ..\n",
            "drwxr-xr-x 4 root root 4096 Oct  5 19:32 .config\n",
            "drwxr-xr-x 2 root root 4096 Oct  8 15:46 .ipynb_checkpoints\n",
            "-rwxr-xr-x 1 root root    0 Oct  8 15:46 myscript.py\n",
            "drwxr-xr-x 1 root root 4096 Oct  5 19:33 sample_data\n"
          ]
        }
      ]
    },
    {
      "cell_type": "code",
      "source": [
        "!echo $SHELL"
      ],
      "metadata": {
        "colab": {
          "base_uri": "https://localhost:8080/"
        },
        "id": "SxymdvII-Z1l",
        "outputId": "613e8865-435e-44be-efef-4a45badb4500"
      },
      "execution_count": null,
      "outputs": [
        {
          "output_type": "stream",
          "name": "stdout",
          "text": [
            "/bin/bash\n"
          ]
        }
      ]
    },
    {
      "cell_type": "code",
      "source": [
        "!python myscript.py 1 10"
      ],
      "metadata": {
        "colab": {
          "base_uri": "https://localhost:8080/"
        },
        "id": "qq5IfZkN-vX2",
        "outputId": "cb93ee3d-1559-4f3a-dcbf-70b13fdb754d"
      },
      "execution_count": null,
      "outputs": [
        {
          "output_type": "stream",
          "name": "stdout",
          "text": [
            "[2, 4, 6, 8, 10]\n"
          ]
        }
      ]
    }
  ]
}